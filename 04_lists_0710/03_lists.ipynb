{
 "cells": [
  {
   "cell_type": "markdown",
   "id": "eb473c4f-0e95-4946-9561-f9259c0722b5",
   "metadata": {
    "ExecuteTime": {
     "end_time": "2023-10-07T11:54:41.239618Z",
     "start_time": "2023-10-07T11:54:41.232409Z"
    },
    "collapsed": true,
    "jupyter": {
     "outputs_hidden": true
    }
   },
   "source": [
    "# Массивы\n",
    "\n",
    "<p style=\"font-size: 18px;\"><b>Массив</b> - коллекция, которая способна хранить в себе определенное количество элементов заданного типа данных.</p>\n",
    "\n",
    "<code><b>string</b> students[4] = {\"Jake\", \"John\", \"Emily\", \"Alice\"};</code>\n",
    "\n",
    "<p style=\"font-size: 18px;\">Массив имеет жесткие ограничения по типу хранимых значений (нельзя хранить одновременно строки и числа) и по количеству этих значений - если была выделена память под 4 элемента в массиве, больше 4 элементов в массив добавить нельзя.</p>\n",
    "\n",
    "<p style=\"font-size: 18px;\">Так как массив является упорядоченной изменяемой коллекцией, каждый элемент массива имеет свой порядковый номер, который именуется <b>индексом</b>. Индексы начинают нумерацию с <code>0</code>. Используя систему индексации, вы можете обращаться к элементам массива, изменять их и выполнять любые другие действия.</p>\n",
    "\n",
    "<img src=\"indexes.png\">\n",
    "\n",
    "<hr>\n",
    "\n",
    "<p style=\"font-size: 32px; color: red;\">Массивов в Python нет.</p>\n",
    "\n",
    "# Списки <code>&lt;class 'list'&gt;</code>\n",
    "\n",
    "<p style=\"font-size: 18px;\">Список в Python отличается от статических массивов тем, что у него нет ограничений ни по количеству элементов, ни по типу хранимых значений.</p>\n",
    "\n",
    "<p style=\"font-size: 18px;\">Списки, в отличие от массивов, можно выводить через консольный вывод.</p>"
   ]
  },
  {
   "cell_type": "code",
   "execution_count": 2,
   "id": "ed0bfda2-dd86-4c9e-b9dd-56046921b31f",
   "metadata": {},
   "outputs": [
    {
     "name": "stdout",
     "output_type": "stream",
     "text": [
      "[1, 2, 3, 4, 5, 6]\n"
     ]
    }
   ],
   "source": [
    "nums = [1, 2, 3, 4, 5, 6]\n",
    "\n",
    "print(nums)"
   ]
  },
  {
   "cell_type": "markdown",
   "id": "8859927d-1b7b-42fe-bdaa-521457051e5f",
   "metadata": {},
   "source": [
    "# Операции со списками\n",
    "\n",
    "## 1. Вывод элемента списка по индексу\n",
    "\n",
    "\n",
    "<p style=\"font-size: 18px;\">Для того, чтобы вывести элемент списка в консоль, нужно обратиться к переменной, которая хранит список, поставить квадртные скобочки и указать индекс элемента, который вы хотите вывести:</p>\n",
    "<p style=\"font-size: 18px;\"><code>название_списка[индекс]</code></p>"
   ]
  },
  {
   "cell_type": "code",
   "execution_count": 3,
   "id": "2cc496d6-de95-4cbf-bc8e-55e0dc8f64e7",
   "metadata": {},
   "outputs": [
    {
     "name": "stdout",
     "output_type": "stream",
     "text": [
      "4\n"
     ]
    }
   ],
   "source": [
    "a = [1, 2, 3, 4, 5, 6]\n",
    "\n",
    "print(a[3])"
   ]
  },
  {
   "cell_type": "markdown",
   "id": "d31b207a-f46b-478a-b4b1-582fa51be231",
   "metadata": {},
   "source": [
    "## 2. Замена элемента списка\n",
    "\n",
    "<p style=\"font-size: 18px;\">Для того, чтобы заменить значение в массиве, нужно обратиться к нему по индексу и задать новое значение:</p>\n",
    "<p style=\"font-size: 18px;\"><code>название_списка[индекс] = новое_значение</code></p>"
   ]
  },
  {
   "cell_type": "code",
   "execution_count": 5,
   "id": "e1ec1392-d485-40b6-8bfb-c025eafd0a10",
   "metadata": {},
   "outputs": [
    {
     "name": "stdout",
     "output_type": "stream",
     "text": [
      "[1, 2, 'привет', 4, 5, 6]\n"
     ]
    }
   ],
   "source": [
    "a[2] = 'привет'\n",
    "\n",
    "print(a)"
   ]
  },
  {
   "cell_type": "markdown",
   "id": "9add9e43-c788-4b76-a92d-78cedfd9ed60",
   "metadata": {},
   "source": [
    "## 3. Арифметика\n",
    "\n",
    "<p style=\"font-size: 18px;\">Со списками можно выполнять арифметические действия: сложение и умножение.</p>\n",
    "\n",
    "<p style=\"font-size: 18px;\">Представьте, что список в Python - это список покупок (на бумажке). Мама и бабушка дали вам два разных списка. Вы решили, чтобы один из них не потерять, склеить их скотчем. В данном случае это операция сложения списков. Списки можно складывать только со списками, в этом случае вы получите объединенный список значений:</p>"
   ]
  },
  {
   "cell_type": "code",
   "execution_count": 9,
   "id": "1a6d5258-1c59-4244-868a-dcf87b665516",
   "metadata": {},
   "outputs": [
    {
     "name": "stdout",
     "output_type": "stream",
     "text": [
      "[8, 9, 10, 1, 2, 3]\n"
     ]
    }
   ],
   "source": [
    "n1 = [1, 2, 3]\n",
    "n2 = [8, 9, 10]\n",
    "n3 = n2 + n1\n",
    "print(n3)"
   ]
  },
  {
   "cell_type": "markdown",
   "id": "24edc45e-5d2f-4c12-9430-0808d38c01ef",
   "metadata": {},
   "source": [
    "<p style=\"font-size: 18px;\">Списки можно умножать на числа. Опять же, представим, что список - это список покупок. Классный руководитель дал вам список с разными видами штор. Вы с друзьями, решили, что каждый купит по два вида штор, для этого, чтобы никто не запутался, надо сделать несколько копий списка покупок. Вы кладете листик в принтер и печатете несколько экземпляров, и получаете объединенный список значений:</p>"
   ]
  },
  {
   "cell_type": "code",
   "execution_count": 10,
   "id": "8b743e14-e659-44ee-bf85-f342f3ad1554",
   "metadata": {},
   "outputs": [
    {
     "name": "stdout",
     "output_type": "stream",
     "text": [
      "['Привет', 'Андрей', 'Привет', 'Андрей', 'Привет', 'Андрей']\n"
     ]
    }
   ],
   "source": [
    "phrase = ['Привет', 'Андрей']\n",
    "print(phrase * 3)"
   ]
  },
  {
   "cell_type": "markdown",
   "id": "0b1cb0b3-5010-40a6-8fc6-72004526105a",
   "metadata": {},
   "source": [
    "<p style=\"font-size: 18px;\">Вы заметили, что списки нельзя делить. Но в Python есть киллер-фича, которая позволяет вам сделать срезы спискам. Срез списка - это как подстрока. То есть у вас есть большая коллекция, из которой вы хотите получить несколько элементов. Вы можете их срезать. Синтаксис среза списков выглядит так: <code>список[start:stop:step]</code>.</p>"
   ]
  },
  {
   "cell_type": "code",
   "execution_count": 17,
   "id": "64d645eb-da22-41c5-8c53-e0ae81b09e87",
   "metadata": {},
   "outputs": [
    {
     "name": "stdout",
     "output_type": "stream",
     "text": [
      "[47, 18, 28]\n",
      "[63, 47, 18, 28, 62, 85, 14]\n"
     ]
    }
   ],
   "source": [
    "a = [63, 47, 18, 28, 62, 85, 14, 56, 93, 97, 65, 13, 20, 5, 5, 34, 19, 24, 65, 40]\n",
    "\n",
    "a1 = a[1:4]  # срезать элементы с 1 по 3 индекс включительно\n",
    "print(a1)\n",
    "\n",
    "# если нужно срезать с начала до 6 включительно (начальный индекс можно не указывать)\n",
    "print(a[:7])"
   ]
  },
  {
   "cell_type": "markdown",
   "id": "09cdd935-e8b9-4fbf-901f-1213dae34b6e",
   "metadata": {},
   "source": [
    "<p style=\"font-size: 18px;\">Система индексации списков поддерживает отрицательные индексы. Индексу <code>-1</code> соответствует последний элемент списка.</p>"
   ]
  },
  {
   "cell_type": "code",
   "execution_count": 19,
   "id": "606bb981-7eba-4d07-bf34-dfa77d81f72f",
   "metadata": {},
   "outputs": [
    {
     "name": "stdout",
     "output_type": "stream",
     "text": [
      "40 65 24\n"
     ]
    }
   ],
   "source": [
    "print(a[-1], a[-2], a[-3])"
   ]
  },
  {
   "cell_type": "markdown",
   "id": "6f85279e-8182-4a79-baeb-eb563db37e16",
   "metadata": {},
   "source": [
    "<p style=\"font-size: 18px;\">Благодаря этому, вы можете делать срез с конца списка, не зная фактический индекс элемента, который вам необходим:</p>"
   ]
  },
  {
   "cell_type": "code",
   "execution_count": 24,
   "id": "d207c48b-e7c1-4532-839b-c1bedf26c7af",
   "metadata": {},
   "outputs": [
    {
     "name": "stdout",
     "output_type": "stream",
     "text": [
      "[5, 34, 19, 24, 65, 40]\n"
     ]
    }
   ],
   "source": [
    "print(a[-6:])  # вывести с -6 до конца "
   ]
  },
  {
   "cell_type": "markdown",
   "id": "91cfe1bd-0db3-4def-b1f7-5916da559c75",
   "metadata": {},
   "source": [
    "## Другой вариант среза\n",
    "\n",
    "<p style=\"font-size: 18px;\">В Python оператор <code>*</code> может быть распаковщиком.</p>"
   ]
  },
  {
   "cell_type": "code",
   "execution_count": 27,
   "id": "aa177f2e-6a0a-47c4-91db-da3371a1f9c7",
   "metadata": {},
   "outputs": [
    {
     "name": "stdout",
     "output_type": "stream",
     "text": [
      "63\n",
      "47\n",
      "[18, 28, 62, 85, 14, 56, 93, 97, 65, 13, 20, 5, 5, 34, 19, 24, 65, 40]\n"
     ]
    }
   ],
   "source": [
    "a = [63, 47, 18, 28, 62, 85, 14, 56, 93, 97, 65, 13, 20, 5, 5, 34, 19, 24, 65, 40]\n",
    "\n",
    "n1, n2, *rest = a\n",
    "\n",
    "print(n1)\n",
    "print(n2)\n",
    "print(rest)"
   ]
  },
  {
   "cell_type": "markdown",
   "id": "4d23581e-2cca-46fa-bd60-b70938d88b25",
   "metadata": {},
   "source": [
    "# Обработка списков\n",
    "\n",
    "<p style=\"font-size: 18px;\">Перебор элементов списка. Перебрать значения - это пройтись циклом по каждому элементу и выполнить с ним какую-то операцию. Вариантов перебора в Python два: по индексу и по значению.</p>"
   ]
  },
  {
   "cell_type": "code",
   "execution_count": 29,
   "id": "84d597f8-8f3e-4fc5-b8d5-4c764a44f178",
   "metadata": {},
   "outputs": [
    {
     "name": "stdout",
     "output_type": "stream",
     "text": [
      "i = 0, element: 4\n",
      "i = 1, element: 12\n",
      "i = 2, element: 7\n",
      "i = 3, element: 41\n",
      "i = 4, element: 9\n"
     ]
    }
   ],
   "source": [
    "list1 = [4, 12, 7, 41, 9]\n",
    "\n",
    "# len() возвращает длину коллекции, которая передается ей в качестве аргумента \n",
    "for i in range(len(list1)):  # количество повторений цикла = длине списка. Читать в этом случае как range(0, 5)\n",
    "    print(f'i = {i}, element: {list1[i]}')"
   ]
  },
  {
   "cell_type": "code",
   "execution_count": 31,
   "id": "6c8609d7-8c89-431b-a4c6-93612d37b129",
   "metadata": {},
   "outputs": [
    {
     "name": "stdout",
     "output_type": "stream",
     "text": [
      "4\n",
      "12\n",
      "7\n",
      "41\n",
      "9\n"
     ]
    }
   ],
   "source": [
    "# напрямую передаю коллекцию в список и количество повторений все еще равно длине списка, но индексы не используются\n",
    "for element in list1:\n",
    "    print(element)"
   ]
  },
  {
   "cell_type": "markdown",
   "id": "4091dd84-20c9-4b93-a499-b03a6171b5fe",
   "metadata": {},
   "source": [
    "# Методы списков\n",
    "\n",
    "<p style=\"font-size: 18px;\">Основные списковые методы:</p>\n",
    "\n",
    "\n",
    "<table>\n",
    "    <thead>\n",
    "    <tr>\n",
    "        <th>Метод</th>\n",
    "        <th>Описание</th>\n",
    "    </tr>\n",
    "    </thead>\n",
    "    <tbody>\n",
    "    <tr>\n",
    "        <td><code>.append(x)</code></td>\n",
    "        <td>Метод, который добавляет элемент <code>х</code> в конец списка.</td>\n",
    "    </tr>\n",
    "    <tr>\n",
    "        <td><code>.pop(x)/.pop()</code></td>\n",
    "        <td>Метод, который удаляет последний элемент или элемент с индексом <code>х</code> из списка.</td>\n",
    "    </tr>\n",
    "    <tr>\n",
    "        <td><code>.insert(index, element)</code></td>\n",
    "        <td>Метод, который вставляет элемент <code>element</code> на место индекса <code>index</code>. Остальные элементы сдвигаются \"вправо\".</td>\n",
    "    </tr>\n",
    "    <tr>\n",
    "        <td><code>.sort()</code></td>\n",
    "        <td>Сортирует список от меньшего значения к большему.</td>\n",
    "    </tr>\n",
    "    <tr>\n",
    "        <td><code>.reverse()</code></td>\n",
    "        <td>Разворачивает список (было 0, 1, 2, 3...n, стало n....3, 2, 1)</td>\n",
    "    </tr>\n",
    "    </tbody>\n",
    "</table>"
   ]
  },
  {
   "cell_type": "code",
   "execution_count": 35,
   "id": "e79fcc55-45c4-4da4-bc41-8b60b446e9e4",
   "metadata": {},
   "outputs": [
    {
     "name": "stdin",
     "output_type": "stream",
     "text": [
      "Введите число:  5\n",
      "Введите число:  3\n",
      "Введите число:  8\n",
      "Введите число:  12\n",
      "Введите число:  6\n"
     ]
    },
    {
     "name": "stdout",
     "output_type": "stream",
     "text": [
      "[5, 3, 8, 12, 6]\n"
     ]
    }
   ],
   "source": [
    "# Мне нужно заполнить список 5 числами, которые введет пользователь:\n",
    "\n",
    "a = []\n",
    "for i in range(5):\n",
    "    n = int(input('Введите число: '))\n",
    "    a.append(n)\n",
    "\n",
    "print(a)"
   ]
  },
  {
   "cell_type": "code",
   "execution_count": 36,
   "id": "90135f9a-7a26-4a93-b211-7d0f5789a5df",
   "metadata": {},
   "outputs": [
    {
     "name": "stdout",
     "output_type": "stream",
     "text": [
      "[5, 3, 8, 12]\n",
      "[5, 8, 12]\n"
     ]
    }
   ],
   "source": [
    "# Хочу удалить последний и второй элемент из списка\n",
    "\n",
    "a.pop()  # последний\n",
    "print(a)\n",
    "a.pop(1)  # второй (по счету)\n",
    "print(a)"
   ]
  },
  {
   "cell_type": "code",
   "execution_count": 37,
   "id": "89ddb934-40a2-4499-ac32-d577872ae8d6",
   "metadata": {},
   "outputs": [
    {
     "name": "stdout",
     "output_type": "stream",
     "text": [
      "[5, 10, 8, 12]\n"
     ]
    }
   ],
   "source": [
    "# Хочу вставить на меcто второго элемента другое число\n",
    "\n",
    "a.insert(1, 10)  # на индекс 1 поставить 10\n",
    "print(a)"
   ]
  },
  {
   "cell_type": "code",
   "execution_count": 40,
   "id": "78681056-410c-4ac5-bffa-dfcd5e09ebb1",
   "metadata": {},
   "outputs": [
    {
     "name": "stdout",
     "output_type": "stream",
     "text": [
      "[5, 8, 10, 12]\n"
     ]
    }
   ],
   "source": [
    "# Хочу отсортировать список\n",
    "a.sort()\n",
    "print(a)"
   ]
  },
  {
   "cell_type": "code",
   "execution_count": 42,
   "id": "2ebb6a51-6929-47ae-958d-59a8e96920ef",
   "metadata": {},
   "outputs": [
    {
     "name": "stdout",
     "output_type": "stream",
     "text": [
      "[6, 12, -8, 3, 5]\n"
     ]
    }
   ],
   "source": [
    "# Развернем список\n",
    "a = [5, 3, -8, 12, 6]\n",
    "\n",
    "\n",
    "a.reverse()\n",
    "print(a)"
   ]
  },
  {
   "cell_type": "markdown",
   "id": "da0f64d8-7c40-4e7e-993e-92865cf93c7a",
   "metadata": {},
   "source": [
    "# Методы\n",
    "\n",
    "<p style=\"font-size: 18px;\">Метод - это функция, которая расширяет возможности экземпляра класса. Мы уже выяснили, что все \"типы данных\" в Python - это экземпляры соответствующих классов. Для классов прописано поведение, то есть операции, которые можно совершать с их экземплярами. Чтобы вызвать метод, нужно указать имя экземпляра (в нашем случае это имя переменной списка), поставить точку и вызвать соответствующий метод со скобочками в конце вне зависимости от того: передаете вы туда что-то или нет.</p>"
   ]
  },
  {
   "cell_type": "code",
   "execution_count": null,
   "id": "5b714e87-e16b-48c2-8b21-70636418945e",
   "metadata": {},
   "outputs": [],
   "source": []
  }
 ],
 "metadata": {
  "kernelspec": {
   "display_name": "Python 3 (ipykernel)",
   "language": "python",
   "name": "python3"
  },
  "language_info": {
   "codemirror_mode": {
    "name": "ipython",
    "version": 3
   },
   "file_extension": ".py",
   "mimetype": "text/x-python",
   "name": "python",
   "nbconvert_exporter": "python",
   "pygments_lexer": "ipython3",
   "version": "3.11.2"
  }
 },
 "nbformat": 4,
 "nbformat_minor": 5
}
