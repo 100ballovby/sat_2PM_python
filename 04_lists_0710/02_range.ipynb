{
 "cells": [
  {
   "cell_type": "markdown",
   "id": "4f15ad9dd16294f",
   "metadata": {
    "collapsed": false
   },
   "source": [
    "# Функция <code>range(s, s, s)</code>\n",
    "\n",
    "<p style=\"font-size: 18px;\">В Python есть генератор арифметических прогрессия - функция <code>range</code></p>\n",
    "\n",
    "<p style=\"font-size: 18px;\">Арифметическая прогрессия - последовательность чисел, в которой обязательно есть точка начала, точка окончания и шаг.</p>\n",
    "<ul style=\"font-size: 18px;\">\n",
    "<li><b><code>start</code></b> - значение, с которого НАЧИНАЕТСЯ последовательность;</li> \n",
    "<li><b><code>stop </code></b> - значение, ПЕРЕД которым последовательность останавливается; </li>\n",
    "<li><b><code>step </code></b> - величина, на которую каждый следующий член последовательности отличается от предыдущего; </li>\n",
    "</ul>\n",
    "\n",
    "<p style=\"font-size: 18px;\"><code>range</code> имеет 3 варианта написания:</p>\n",
    "\n",
    "<ul style=\"font-size: 18px;\">\n",
    "    <li><b><code>range(stop)</code></b> - последовательность будет построена от 0 до точки <code>stop</code> с шагом 1;</li>\n",
    "    <li><b><code>range(start, stop)</code></b> - последовательность будет построена от точки <code>start</code> до точки <code>stop</code> с шагом 1;</li>\n",
    "    <li><b><code>range(start, stop, step)</code></b> - последовательность будет построена от точки <code>start</code> до точки <code>stop</code> с шагом <code>step</code>.</li>\n",
    "</ul>"
   ]
  },
  {
   "cell_type": "code",
   "execution_count": 6,
   "id": "58c60e95c7e86ffd",
   "metadata": {
    "collapsed": false,
    "ExecuteTime": {
     "end_time": "2023-10-03T14:10:56.126588Z",
     "start_time": "2023-10-03T14:10:56.119870Z"
    }
   },
   "outputs": [
    {
     "name": "stdout",
     "output_type": "stream",
     "text": [
      "0 1 2 3 4\n"
     ]
    }
   ],
   "source": [
    "print(*range(5))"
   ]
  },
  {
   "cell_type": "code",
   "execution_count": 7,
   "id": "8b898a24-2a20-41bf-a6e6-79987769eb2d",
   "metadata": {
    "ExecuteTime": {
     "end_time": "2023-10-03T14:10:56.127640Z",
     "start_time": "2023-10-03T14:10:56.122754Z"
    }
   },
   "outputs": [
    {
     "name": "stdout",
     "output_type": "stream",
     "text": [
      "10 11 12 13 14 15 16 17 18 19\n"
     ]
    }
   ],
   "source": [
    "print(*range(10, 20))"
   ]
  },
  {
   "cell_type": "code",
   "execution_count": 8,
   "id": "91677912-f35d-4683-a47a-789f57e05bc6",
   "metadata": {
    "ExecuteTime": {
     "end_time": "2023-10-03T14:10:56.140065Z",
     "start_time": "2023-10-03T14:10:56.127790Z"
    }
   },
   "outputs": [
    {
     "name": "stdout",
     "output_type": "stream",
     "text": [
      "1 3 5 7 9 11 13\n"
     ]
    }
   ],
   "source": [
    "print(*range(1, 15, 2))"
   ]
  },
  {
   "cell_type": "markdown",
   "id": "06a98e23-56af-4fbb-a0b7-4256c8e894cf",
   "metadata": {},
   "source": [
    "<p style=\"font-size: 18px;\"><code>range()</code>, если включить режим душнилы, функцией не является. Это классовый генератор. Так как все генераторы в программировании направлены на то, чтобы экономить память, <code>range()</code> никогда не будет строить вам всю последовательность, которую вы у него запросили.</p>"
   ]
  },
  {
   "cell_type": "code",
   "execution_count": 9,
   "id": "af9270f0-29ec-43f3-badb-2b891b6085f7",
   "metadata": {
    "ExecuteTime": {
     "end_time": "2023-10-03T14:10:56.141421Z",
     "start_time": "2023-10-03T14:10:56.130533Z"
    }
   },
   "outputs": [
    {
     "name": "stdout",
     "output_type": "stream",
     "text": [
      "range(1, 100)\n",
      "1 2 3 4 5 6 7 8 9 10 11 12 13 14 15 16 17 18 19 20 21 22 23 24 25 26 27 28 29 30 31 32 33 34 35 36 37 38 39 40 41 42 43 44 45 46 47 48 49 50 51 52 53 54 55 56 57 58 59 60 61 62 63 64 65 66 67 68 69 70 71 72 73 74 75 76 77 78 79 80 81 82 83 84 85 86 87 88 89 90 91 92 93 94 95 96 97 98 99\n"
     ]
    }
   ],
   "source": [
    "print(range(1, 100))\n",
    "print(*range(1, 100))"
   ]
  },
  {
   "cell_type": "markdown",
   "id": "f1739a3d-4e0a-4d97-a0e9-0299f9868db1",
   "metadata": {},
   "source": [
    "<p style=\"font-size: 18px;\"><code>range()</code> создает объект последовательности, который по своему устройству напоминает массив. В массиве у каждого элемента есть определенный порядковый номер, по которому к этому элементу можно обратиться. Так вот когда вы ставите <code>range()</code> в цикл, магический оператор <code>in</code> просто ЗАПРАШИВАЕТ у объекта значения по индексу, а <code>range()</code> их генерирует (высчитывает).</p>"
   ]
  },
  {
   "cell_type": "code",
   "execution_count": 10,
   "id": "ac23ea36-1088-40b1-899c-3c1bcbb2057c",
   "metadata": {
    "ExecuteTime": {
     "end_time": "2023-10-03T14:10:56.141860Z",
     "start_time": "2023-10-03T14:10:56.134497Z"
    }
   },
   "outputs": [
    {
     "name": "stdout",
     "output_type": "stream",
     "text": [
      "50 83 98\n"
     ]
    }
   ],
   "source": [
    "a = range(50, 100, 3)\n",
    "\n",
    "print(a[0], a[11], a[-1])"
   ]
  },
  {
   "cell_type": "markdown",
   "id": "8d51017c-1c55-4e8e-a067-94a24061fe5a",
   "metadata": {},
   "source": [
    "<p style=\"font-size: 18px;\">В примере выше я попросил вывести индексы 0 (первый элемент), 11 (двеннадцатый элемент) и -1 (последний), в ответ на это я получил посчитанные значения. Остальных членов прогрессии НЕ СУЩЕСТВУЕТ.</p>"
   ]
  }
 ],
 "metadata": {
  "kernelspec": {
   "display_name": "Python 3 (ipykernel)",
   "language": "python",
   "name": "python3"
  },
  "language_info": {
   "codemirror_mode": {
    "name": "ipython",
    "version": 3
   },
   "file_extension": ".py",
   "mimetype": "text/x-python",
   "name": "python",
   "nbconvert_exporter": "python",
   "pygments_lexer": "ipython3",
   "version": "3.11.2"
  }
 },
 "nbformat": 4,
 "nbformat_minor": 5
}
