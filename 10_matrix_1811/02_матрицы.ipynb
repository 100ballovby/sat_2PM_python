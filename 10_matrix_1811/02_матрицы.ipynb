{
 "cells": [
  {
   "cell_type": "markdown",
   "id": "a3092915-0813-4a88-9c25-0ae74bd49922",
   "metadata": {
    "ExecuteTime": {
     "end_time": "2023-11-18T12:20:57.391124Z",
     "start_time": "2023-11-18T12:20:57.378929Z"
    },
    "collapsed": true,
    "jupyter": {
     "outputs_hidden": true
    }
   },
   "source": [
    "# Матрицы. Действия.\n",
    "\n",
    "<p style=\"font-size: 18px;\">Если в матрице слишком много отрицательных чисел, принято выносить из нее минус. Вынести минус - это значит оставить его за скобками и поменять знаки на противоположные для всех элементов матрицы.</p>\n",
    "\n",
    "<img src=\"s1.png\">"
   ]
  },
  {
   "cell_type": "code",
   "execution_count": 2,
   "id": "47867d77-30f0-47b0-b03a-f071caf2f1bb",
   "metadata": {},
   "outputs": [
    {
     "name": "stdout",
     "output_type": "stream",
     "text": [
      "[[1, 0, 2], [5, -4, 7], [-6, 4, 6]]\n"
     ]
    }
   ],
   "source": [
    "B = [\n",
    "    [-1, 0, -2],\n",
    "    [-5, 4, -7],\n",
    "    [6, -4, -6]\n",
    "]\n",
    "\n",
    "# чтобы просто вынести минус из матрицы:\n",
    "for i in range(len(B)):\n",
    "    for j in range(len(B[i])):\n",
    "        B[i][j] *= -1\n",
    "\n",
    "print(B)"
   ]
  },
  {
   "cell_type": "code",
   "execution_count": 7,
   "id": "b1012882-0f6e-421f-b457-484aa004e8ad",
   "metadata": {},
   "outputs": [
    {
     "name": "stdout",
     "output_type": "stream",
     "text": [
      "[[1, 0, 2], [5, -4, 7], [-6, 4, 6]]\n"
     ]
    }
   ],
   "source": [
    "B = [\n",
    "    [-1, 0, -2],\n",
    "    [-5, 4, -7],\n",
    "    [6, -4, -6]\n",
    "]\n",
    "C = [\n",
    "    [1, 0, 2],\n",
    "    [5, -4, 7],\n",
    "    [-6, 4, 6]\n",
    "]\n",
    "\n",
    "l_0 = 0\n",
    "h_0 = 0\n",
    "for i in range(len(C)):\n",
    "    for j in range(len(C[i])):\n",
    "        if C[i][j] > 0:\n",
    "            h_0 += 1\n",
    "        elif C[i][j] < 0:\n",
    "            l_0 += 1\n",
    "\n",
    "if l_0 > h_0:\n",
    "    for i in range(len(C)):\n",
    "        for j in range(len(C[i])):\n",
    "            C[i][j] *= -1\n",
    "\n",
    "print(C)"
   ]
  },
  {
   "cell_type": "markdown",
   "id": "5d04389f-cb69-4d65-b793-2eda4b5ecab5",
   "metadata": {},
   "source": [
    "# Транспонирование матрицы\n",
    "\n",
    "<p style=\"font-size: 18px;\">Транспонирование - это процесс переноса строк в столбцы.</p>\n",
    "\n",
    "<img src=\"s2.png\">\n",
    "\n",
    "<p style=\"font-size: 18px;\">В случае, если матрица состоит более чем из одной строки, алгоритм действий следующий: сначала берем первую строку матрицы и делаем ее первым столбцом новой матрицы, и так продолжаем до момента, пока строки в исходной матрице не закончатся.</p>"
   ]
  },
  {
   "cell_type": "code",
   "execution_count": 13,
   "id": "be0f0143-68c5-41e1-a613-21a9060243ea",
   "metadata": {},
   "outputs": [
    {
     "name": "stdout",
     "output_type": "stream",
     "text": [
      "[[1, 4, 7], [2, 5, 8], [3, 6, 9]]\n"
     ]
    }
   ],
   "source": [
    "matrix = [\n",
    "    [1, 2, 3],\n",
    "    [4, 5, 6],\n",
    "    [7, 8, 9]\n",
    "]\n",
    "\n",
    "\n",
    "transposed_matrix = []\n",
    "for i in range(len(matrix)):  # здесь можно указать длину НЕ матрицы, а СТРОКИ\n",
    "    transposed_row = []\n",
    "    for j in range(len(matrix[i])):  # здесь можно указать длину НЕ строки, а МАТРИЦЫ\n",
    "        transposed_row.append(matrix[j][i])\n",
    "    transposed_matrix.append(transposed_row)\n",
    "\n",
    "print(transposed_matrix)"
   ]
  },
  {
   "cell_type": "markdown",
   "id": "fc9b1df6-7b33-4633-abd7-69a8d31c4b25",
   "metadata": {},
   "source": [
    "# Сложение или разность матриц\n",
    "\n",
    "<p style=\"font-size: 18px;\">НЕ ВСЕ МАТРИЦЫ МОЖНО СКЛАДЫВАТЬ И ОТНИМАТЬ. Для выполнения этого действия, матрицы должны быть одинаковыми по размеру. Сложение и вычитание матриц происходит по принципу \"каждый с каждым\". <br>То есть элемент A<sub>[i]</sub><sub>[j]</sub>, нужно сложить с B<sub>[i]</sub><sub>[j]</sub>.</p>\n",
    "\n",
    "<img src=\"s3.png\">\n",
    "\n",
    "# Умножение матриц\n",
    "\n",
    "<img src=\"s4.png\">\n",
    "\n",
    "<p style=\"font-size: 18px;\">Если матрицы разного размера, то бОльшая матрица уменьшится до размеры меньше матрицы.</p>"
   ]
  },
  {
   "cell_type": "code",
   "execution_count": null,
   "id": "9520d00e-4581-4c34-bdf6-bfb741867c55",
   "metadata": {},
   "outputs": [],
   "source": []
  }
 ],
 "metadata": {
  "kernelspec": {
   "display_name": "Python 3 (ipykernel)",
   "language": "python",
   "name": "python3"
  },
  "language_info": {
   "codemirror_mode": {
    "name": "ipython",
    "version": 3
   },
   "file_extension": ".py",
   "mimetype": "text/x-python",
   "name": "python",
   "nbconvert_exporter": "python",
   "pygments_lexer": "ipython3",
   "version": "3.11.2"
  }
 },
 "nbformat": 4,
 "nbformat_minor": 5
}
