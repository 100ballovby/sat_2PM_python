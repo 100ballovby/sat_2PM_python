{
 "cells": [
  {
   "cell_type": "markdown",
   "id": "dd74d3f5-8074-4d41-9522-f59f10b358b7",
   "metadata": {
    "ExecuteTime": {
     "end_time": "2023-12-02T11:35:01.836137Z",
     "start_time": "2023-12-02T11:35:01.829701Z"
    },
    "collapsed": true,
    "jupyter": {
     "outputs_hidden": true
    }
   },
   "source": [
    "# Паттерны программирования\n",
    "\n",
    "\n",
    "<p style=\"font-size: 18px;\">Базово-основной паттерн программирования - <b>DRY</b> - Don't Repeat Yourself. Подразумевает собой написание <b>чистого</b> кода, в котором нет лишних повторений одних и тех же операций. Цикл - один из базовых приемов DRY, потому что позволяет повторить действия вместо того, чтобы писать их несколько раз вручную.</p>"
   ]
  },
  {
   "cell_type": "code",
   "execution_count": 2,
   "id": "ddee31db-a5f4-46ce-8a70-6fe37ee91ee4",
   "metadata": {},
   "outputs": [
    {
     "name": "stdout",
     "output_type": "stream",
     "text": [
      "Привет\n",
      "Привет\n",
      "Привет\n",
      "Привет\n",
      "Привет\n",
      "Привет\n",
      "Привет\n",
      "Привет\n",
      "Привет\n",
      "Привет\n",
      "Привет\n",
      "Привет\n"
     ]
    }
   ],
   "source": [
    "print('Привет')\n",
    "print('Привет')\n",
    "print('Привет')\n",
    "print('Привет')\n",
    "print('Привет')\n",
    "print('Привет')\n",
    "\n",
    "# лучше вот так:\n",
    "for i in range(6):\n",
    "    print('Привет')"
   ]
  },
  {
   "cell_type": "markdown",
   "id": "0668a631-18c9-410d-a59c-1e917ea9624b",
   "metadata": {},
   "source": [
    "<p style=\"font-size: 18px;\">Помимо циклов для \"подсушивания\" кода иногда пишутся особые блоки, в которых описан набор действий после выполнения которого основной поток программы будет возвращен в изначальную точку (то есть программа сможет работать дальше и выполнять оставшиеся у нее инструкции.</p>\n",
    "<p style=\"font-size: 18px;\">Такое решение предоставляет <b>функция</b>.</p>\n",
    "\n",
    "# Функции\n",
    "\n",
    "<p style=\"font-size: 22px; border: 2px solid red; padding: 1em; display: block;\"><b>Функция - именованный, самостоятельный блок кода, который призван решать одну определенную задачу и исполняется только в момент его вызова.</b></p>\n",
    "\n",
    "<p style=\"font-size: 18px;\">Для работы функций их для начала нужно определить. Определение функций в Python формируется при помощи ключевого слова <code>def</code> - define. Затем следует имя функции, затем скобочки, в которых передаются дополнительнные данные, затем двоеточие и тело функции.</p>\n",
    "\n",
    "<img src=\"s2.png\">\n",
    "\n",
    "<p style=\"font-size: 18px;\">Важное требование: Функция должна быть максимально универсальным решением, но только \n",
    "в рамках выполнения определенной задачи. Это означает, что вы НЕ должна лезть в код функции, чтобы что-то в нем поменять в процессе работы.</p>\n",
    "\n",
    "<img src=\"s1.png\">\n"
   ]
  },
  {
   "cell_type": "code",
   "execution_count": 6,
   "id": "b5bcca2d-bc97-4c88-af6f-a83cf9a6a7ea",
   "metadata": {},
   "outputs": [
    {
     "name": "stdout",
     "output_type": "stream",
     "text": [
      "Hello\n"
     ]
    }
   ],
   "source": [
    "def say_hello():\n",
    "    return 'Hello'\n",
    "\n",
    "print(say_hello())  # вызов функции (не обязательно в принте). \n",
    "#Print в данном случае выведет значени, которое вернет функция в результате своей работы"
   ]
  },
  {
   "cell_type": "markdown",
   "id": "315445ab-1dbf-42df-9bde-852693ca96e5",
   "metadata": {},
   "source": [
    "<p style=\"font-size: 18px;\"><b>Функции могут получать в себя различные данные.</b></p>\n",
    "\n",
    "<img src=\"s3.png\">\n",
    "\n",
    "<p style=\"font-size: 18px;\">Порядок размещения аргументов должен быть таким же, как порядок размещения параметров. Нарушать его можно, но только в случае, если вы будете указывать названия параметра перед подставляемым аргументом.</p>\n",
    "\n",
    "<p style=\"font-size: 18px;\"><code>build_a_house(<span style=\"color: red\">material</span>=<span style=\"color: #146300;\">'concrete'</span>, <span style=\"color: red\">width</span>=<span style=\"color: #00BAFF\">30</span>, <span style=\"color: red\">color</span>=<span style=\"color: #146300;\">'red'</span>, <span style=\"color: red\">height</span>=<span style=\"color: #00BAFF\">80</span>)</code></p>\n",
    "\n",
    "<p style=\"font-size: 22px; text-align: center; border: 2px solid red; display: block; padding: 1em;\">Если порядок аргументов нарушен, функция может либо работать неправильно, либо не работать вообще.</p>"
   ]
  },
  {
   "cell_type": "code",
   "execution_count": 5,
   "id": "3c2754ad-b847-4edf-b466-ababcd0ca0fb",
   "metadata": {},
   "outputs": [
    {
     "name": "stdout",
     "output_type": "stream",
     "text": [
      "8\n",
      "9\n"
     ]
    },
    {
     "ename": "TypeError",
     "evalue": "'list' object cannot be interpreted as an integer",
     "output_type": "error",
     "traceback": [
      "\u001b[0;31m---------------------------------------------------------------------------\u001b[0m",
      "\u001b[0;31mTypeError\u001b[0m                                 Traceback (most recent call last)",
      "Cell \u001b[0;32mIn[5], line 16\u001b[0m\n\u001b[1;32m     13\u001b[0m a \u001b[38;5;241m=\u001b[39m [\u001b[38;5;241m3\u001b[39m, \u001b[38;5;241m4\u001b[39m, \u001b[38;5;241m2\u001b[39m, \u001b[38;5;241m1\u001b[39m, \u001b[38;5;241m5\u001b[39m, \u001b[38;5;241m6\u001b[39m, \u001b[38;5;241m7\u001b[39m]\n\u001b[1;32m     14\u001b[0m l \u001b[38;5;241m=\u001b[39m \u001b[38;5;241m7\u001b[39m\n\u001b[0;32m---> 16\u001b[0m \u001b[43mshow_array\u001b[49m\u001b[43m(\u001b[49m\u001b[43ml\u001b[49m\u001b[43m,\u001b[49m\u001b[43m \u001b[49m\u001b[43ma\u001b[49m\u001b[43m)\u001b[49m\n\u001b[1;32m     18\u001b[0m \u001b[38;5;66;03m# последний пример работать не будет, потому что в функции использованы разные типы данных параметров и не все из них могут быть взаимозаменяемы\u001b[39;00m\n",
      "Cell \u001b[0;32mIn[5], line 10\u001b[0m, in \u001b[0;36mshow_array\u001b[0;34m(array, length)\u001b[0m\n\u001b[1;32m      9\u001b[0m \u001b[38;5;28;01mdef\u001b[39;00m \u001b[38;5;21mshow_array\u001b[39m(array, length):\n\u001b[0;32m---> 10\u001b[0m     \u001b[38;5;28;01mfor\u001b[39;00m i \u001b[38;5;129;01min\u001b[39;00m \u001b[38;5;28;43mrange\u001b[39;49m\u001b[43m(\u001b[49m\u001b[43mlength\u001b[49m\u001b[43m)\u001b[49m:\n\u001b[1;32m     11\u001b[0m         \u001b[38;5;28mprint\u001b[39m(array[i])\n",
      "\u001b[0;31mTypeError\u001b[0m: 'list' object cannot be interpreted as an integer"
     ]
    }
   ],
   "source": [
    "def square(a, b):\n",
    "    return a ** b\n",
    "\n",
    "print(square(2, 3))\n",
    "print(square(3, 2))\n",
    "\n",
    "# пример выше работает, но неверно, потому что аргументы поменяли местами\n",
    "\n",
    "def show_array(array, length):\n",
    "    for i in range(length):\n",
    "        print(array[i])\n",
    "\n",
    "a = [3, 4, 2, 1, 5, 6, 7]\n",
    "l = 7\n",
    "\n",
    "show_array(l, a)\n",
    "\n",
    "# последний пример работать не будет, потому что в функции использованы разные типы данных параметров и не все из них могут быть взаимозаменяемы"
   ]
  },
  {
   "cell_type": "markdown",
   "id": "13383ae3-63af-48ee-8ef3-b74d2cf8858a",
   "metadata": {},
   "source": [
    "# Возвраты. Оператор <code>return</code>\n",
    "\n",
    "<p style=\"font-size: 18px;\">Функции делятся на два вида:</p>\n",
    "<ul style=\"font-size: 18px;\">\n",
    "    <li>Функция</li>\n",
    "    <li>Процедура</li>\n",
    "</ul>\n",
    "\n",
    "<img src=\"s4.png\">"
   ]
  }
 ],
 "metadata": {
  "kernelspec": {
   "display_name": "Python 3 (ipykernel)",
   "language": "python",
   "name": "python3"
  },
  "language_info": {
   "codemirror_mode": {
    "name": "ipython",
    "version": 3
   },
   "file_extension": ".py",
   "mimetype": "text/x-python",
   "name": "python",
   "nbconvert_exporter": "python",
   "pygments_lexer": "ipython3",
   "version": "3.11.2"
  }
 },
 "nbformat": 4,
 "nbformat_minor": 5
}
