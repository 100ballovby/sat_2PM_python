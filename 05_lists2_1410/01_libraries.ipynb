{
 "cells": [
  {
   "cell_type": "markdown",
   "metadata": {
    "collapsed": true,
    "jupyter": {
     "outputs_hidden": true
    },
    "pycharm": {
     "is_executing": true
    }
   },
   "source": [
    "## Библиотеки и импорты\n",
    "\n",
    "<p><b>Импортировать библиотеку</b> - добавить переменные, фукнции и классы, входящие в библиотеку внутрь вашего проекта.</p>\n",
    "<p><b>Библиотека</b> - это набор модулей, которые вы можете применить для улучшения своей программы.</p>\n",
    "\n",
    "<p>Виды импортов:</p>\n",
    "\n",
    "<ul>\n",
    "    <li><code>import <em>&lt;library name&gt;</em></code> - это означает \"подключить библиотеку\". При таком способе импорта, вам нужно будет всегда прописывать имя библиотеки перед названием функции из этой библиотеки: <code><em>&lt;library name&gt;</em>.function()</code></li>\n",
    "    <li><b>Самый желательный!</b> <code>import <em>&lt;library name&gt;</em> as &lt;alias&gt;</code>. При таком способе импорта, вам нужно будет всегда прописывать сокращение имени библиотеки перед названием функции из этой библиотеки: <code><em>&lt;alias&gt;</em>.function()</code></li>\n",
    "    <li><code>from <em>&lt;library name&gt;</em> import function1, function2</code>. При таком способе импорта нет необходимости прописывать имя библиотеки, потому что вы импортируете отдельные функции из нее. Но вы можете столкнуться с конфликтом имен. Если функция в вашей программе будет совпадать с названием функции библиотеки. Способ обращения к функции из библиотеки выглядит так: <code>function1()</code></li>\n",
    "    <li><b>Самый нежелательный!</b> <code>from <em>&lt;library name&gt;</em> import *</code> - импортировать ВСË из библиотеки. Данный вид импорта гарантирует вам конфликт имен, если вдруг вы решите написать свои функции. Способ обращения к функции из библиотеки выглядит так: <code>function_n()</code></li>\n",
    "</ul>\n",
    "\n",
    "<hr>"
   ]
  },
  {
   "cell_type": "code",
   "execution_count": null,
   "metadata": {
    "ExecuteTime": {
     "end_time": "2023-10-14T11:38:28.745886Z",
     "start_time": "2023-10-14T11:38:28.739122Z"
    }
   },
   "outputs": [],
   "source": []
  }
 ],
 "metadata": {
  "kernelspec": {
   "display_name": "Python 3 (ipykernel)",
   "language": "python",
   "name": "python3"
  },
  "language_info": {
   "codemirror_mode": {
    "name": "ipython",
    "version": 3
   },
   "file_extension": ".py",
   "mimetype": "text/x-python",
   "name": "python",
   "nbconvert_exporter": "python",
   "pygments_lexer": "ipython3",
   "version": "3.11.2"
  }
 },
 "nbformat": 4,
 "nbformat_minor": 4
}
