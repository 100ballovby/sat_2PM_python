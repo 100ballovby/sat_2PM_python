{
 "cells": [
  {
   "cell_type": "markdown",
   "source": [
    "# Файлы\n",
    "\n",
    "\n",
    "<p style=\"font-size: 18px;\">Для работы с файлами посредством языка программирования нужно:</p>\n",
    "\n",
    "<ol style=\"font-size: 18px;\">\n",
    "    <li>Открыть/создать файл, указав путь, где он находится;</li>\n",
    "    <li>Выполнить необходимые действия над файлом;</li>\n",
    "    <li><b>Закрыть файл.</b></li>\n",
    "</ol>\n",
    "\n",
    "<p style=\"font-size: 18px;\">Если не закрыть файл после работы с ним, у вас может произойти перегрузка программы (если файлов открыто много), либо вы можете случайно потерять содержимое файла, так как какая-то функция из вашего кода получит к нему доступ.</p>\n",
    "\n",
    "# Откртие файла\n",
    "<p style=\"font-size: 18px;\">Самый простой способ - это создать переменную, которая будет хранить в себе содержимое файла и присвоить этой переменной функцию <code>open('path')</code>. <code>'path'</code> - это фактическое местоположение файла. Можно указывать только название, если код работает в той же директории, где лежит файл. Если файл необходимо найти, используется абсолютный путь к нему.</p>"
   ],
   "metadata": {
    "collapsed": false
   },
   "id": "9202e9c1fa3e7f93"
  },
  {
   "cell_type": "code",
   "execution_count": 3,
   "outputs": [
    {
     "name": "stdout",
     "output_type": "stream",
     "text": [
      "<_io.TextIOWrapper name='pi_digits.txt' mode='r' encoding='UTF-8'>\n"
     ]
    }
   ],
   "source": [
    "f = open('pi_digits.txt')\n",
    "\n",
    "print(f)\n",
    "\n",
    "f.close()  # закрыть файл после обработки"
   ],
   "metadata": {
    "collapsed": false,
    "ExecuteTime": {
     "end_time": "2023-12-30T11:49:31.240494Z",
     "start_time": "2023-12-30T11:49:31.237012Z"
    }
   },
   "id": "b1be13cd1e32adec"
  },
  {
   "cell_type": "markdown",
   "source": [
    "<p style=\"font-size: 18px;\">Лучше всего работать с файлами с помощью менеджера контекста, который называется <code>with</code>:</p>"
   ],
   "metadata": {
    "collapsed": false
   },
   "id": "ec386fc0c33431e9"
  },
  {
   "cell_type": "code",
   "execution_count": 2,
   "outputs": [
    {
     "name": "stdout",
     "output_type": "stream",
     "text": [
      "<_io.TextIOWrapper name='pi_digits.txt' mode='r' encoding='UTF-8'>\n"
     ]
    }
   ],
   "source": [
    "with open('pi_digits.txt') as file:\n",
    "    print(file)"
   ],
   "metadata": {
    "collapsed": false,
    "ExecuteTime": {
     "end_time": "2023-12-30T11:49:12.528932Z",
     "start_time": "2023-12-30T11:49:12.518525Z"
    }
   },
   "id": "2d29f95329a423be"
  },
  {
   "cell_type": "markdown",
   "source": [
    "<p style=\"font-size: 18px;\">Во-первых, все действия с файлом выполняется с уровнем отступа менеджера контекста. Во-вторых, файл при таком формате работы закрывать не нужно, потому что он закрывается сам, когда работа с ним завершится.</p>"
   ],
   "metadata": {
    "collapsed": false
   },
   "id": "45c0ac40b73066f4"
  },
  {
   "cell_type": "markdown",
   "source": [
    "<p style=\"font-size: 18px;\">Функция <code>open()</code> в качестве аргументов может получать режим работы с файлом (<code>mode</code>). По умолчанию Python выбирает значение <code>rt</code>, но доступны другие режимы:</p>\n",
    "\n",
    "<table style=\"font-size: 22px; text-align: center;\">\n",
    "    <thead>\n",
    "        <tr>\n",
    "            <th>Режим</th>\n",
    "            <th>Как работает?</th>\n",
    "        </tr>\n",
    "    </thead>\n",
    "    <tbody>\n",
    "        <tr>\n",
    "            <td><code>r</code></td>\n",
    "            <td>read - чтение из файла</td>\n",
    "        </tr>\n",
    "        <tr>\n",
    "            <td><code>t</code></td>\n",
    "            <td>text - открыть файл как текстовый файл</td>\n",
    "        </tr>\n",
    "        <tr>\n",
    "            <td><code>w</code></td>\n",
    "            <td>write - запись в файл</td>\n",
    "        </tr>\n",
    "        <tr>\n",
    "            <td><code>x</code></td>\n",
    "            <td>Запись в файл и вызов исключения, если файл не существует</td>\n",
    "        </tr>\n",
    "        <tr>\n",
    "            <td><code>b</code></td>\n",
    "            <td>bytes - открыть как двоичный файл</td>\n",
    "        </tr>\n",
    "        <tr>\n",
    "            <td><code>a</code></td>\n",
    "            <td>append - добавление содержимого в файл (старый контент файла не заменяется новым)</td>\n",
    "        </tr>\n",
    "        <tr>\n",
    "            <td><code>+</code></td>\n",
    "            <td>Работа в режиме чтения и записи</td>\n",
    "        </tr>\n",
    "    </tbody>\n",
    "</table>\n",
    "\n",
    "# Чтение из файла\n",
    "\n",
    "<p style=\"font-size: 18px;\">Чтобы прочитать содержимое файла, используется функция <code>read()</code>. Она трансформирует содержимое файла в строку и позволяет выветси его в консоль.</p>"
   ],
   "metadata": {
    "collapsed": false
   },
   "id": "1ae4d8fb656ef15a"
  },
  {
   "cell_type": "code",
   "execution_count": 4,
   "outputs": [
    {
     "name": "stdout",
     "output_type": "stream",
     "text": [
      "3.1415926535 \n",
      "  8979323846 \n",
      "  2643383279\n"
     ]
    }
   ],
   "source": [
    "with open('pi_digits.txt', 'r') as file:\n",
    "    print(file.read())"
   ],
   "metadata": {
    "collapsed": false,
    "ExecuteTime": {
     "end_time": "2023-12-30T11:59:26.309632Z",
     "start_time": "2023-12-30T11:59:26.305658Z"
    }
   },
   "id": "72228af5952eea4f"
  },
  {
   "cell_type": "markdown",
   "source": [
    "# Запись в файл\n",
    "\n",
    "<p style=\"font-size: 18px;\">Записывать файлы можно в двух режимах: <code>w</code> и <code>a</code>. Первый - режим записи - позволяет записать информацию в файл, но при этом старый текст в файле будет заменен на новый текст. Второй - режим добавления - позволяет \"дописать\" что-то в файл, не стирая при этом старое его содержимое.</p>\n",
    "\n",
    "<p style=\"font-size: 18px;\">Для записи используется функция <code>.write(seq)</code>:<p>"
   ],
   "metadata": {
    "collapsed": false
   },
   "id": "94b68627f1f9937b"
  },
  {
   "cell_type": "code",
   "execution_count": 8,
   "outputs": [
    {
     "name": "stdout",
     "output_type": "stream",
     "text": [
      "В файле написано: Привет! Я в файле!\n"
     ]
    }
   ],
   "source": [
    "with open(\"test.txt\", \"w\") as f:\n",
    "    string = input('Введите что-то: ')\n",
    "    f.write(string)\n",
    "\n",
    "with open('test.txt', 'r') as file:\n",
    "    print(f'В файле написано: {file.read()}')"
   ],
   "metadata": {
    "collapsed": false,
    "ExecuteTime": {
     "end_time": "2023-12-30T12:17:05.578199Z",
     "start_time": "2023-12-30T12:16:59.429166Z"
    }
   },
   "id": "3d4da17cabfc8938"
  },
  {
   "cell_type": "code",
   "execution_count": 9,
   "outputs": [
    {
     "name": "stdout",
     "output_type": "stream",
     "text": [
      "В файле написано: Я новая информация\n"
     ]
    }
   ],
   "source": [
    "with open(\"test.txt\", \"w\") as f:\n",
    "    string = input('Введите что-то: ')\n",
    "    f.write(string)\n",
    "\n",
    "with open('test.txt', 'r') as file:\n",
    "    print(f'В файле написано: {file.read()}')"
   ],
   "metadata": {
    "collapsed": false,
    "ExecuteTime": {
     "end_time": "2023-12-30T12:17:13.677648Z",
     "start_time": "2023-12-30T12:17:08.797998Z"
    }
   },
   "id": "7708b41a9822df67"
  },
  {
   "cell_type": "code",
   "execution_count": 10,
   "outputs": [
    {
     "name": "stdout",
     "output_type": "stream",
     "text": [
      "В файле теперь написано:\n",
      " Я новая информация\n",
      "Я новая строка\n"
     ]
    }
   ],
   "source": [
    "with open(\"test.txt\", \"a\") as f:\n",
    "    string = input('Введите что-то: ')\n",
    "    f.write('\\n' + string)\n",
    "\n",
    "with open('test.txt', 'r') as file:\n",
    "    print(f'В файле теперь написано:\\n {file.read()}')"
   ],
   "metadata": {
    "collapsed": false,
    "ExecuteTime": {
     "end_time": "2023-12-30T12:17:21.917618Z",
     "start_time": "2023-12-30T12:17:18.600423Z"
    }
   },
   "id": "ce4b9ad047278f3a"
  },
  {
   "cell_type": "code",
   "execution_count": null,
   "outputs": [],
   "source": [],
   "metadata": {
    "collapsed": false
   },
   "id": "45779ae6bb58d854"
  }
 ],
 "metadata": {
  "kernelspec": {
   "display_name": "Python 3",
   "language": "python",
   "name": "python3"
  },
  "language_info": {
   "codemirror_mode": {
    "name": "ipython",
    "version": 2
   },
   "file_extension": ".py",
   "mimetype": "text/x-python",
   "name": "python",
   "nbconvert_exporter": "python",
   "pygments_lexer": "ipython2",
   "version": "2.7.6"
  }
 },
 "nbformat": 4,
 "nbformat_minor": 5
}
