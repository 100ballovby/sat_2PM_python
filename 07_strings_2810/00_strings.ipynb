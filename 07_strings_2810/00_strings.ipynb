{
 "cells": [
  {
   "cell_type": "markdown",
   "id": "5d561ad2-f5d1-48af-8801-dfd9a2a49478",
   "metadata": {
    "collapsed": true,
    "jupyter": {
     "outputs_hidden": true
    }
   },
   "source": [
    "# Строки <code>&lt;class 'str'&gt;</code>\n",
    "\n",
    "\n",
    "<p style=\"font-size: 18px;\">Строка - любая последовательность символов, которая заключена в кавычки. Тип кавычек значения не имеет: можно использовать как <code>''</code>, так и <code>\"\"</code>.</p>\n",
    "\n",
    "<p style=\"font-size: 18px;\">Чтобы убедиться, что перед вами действительно строка, можно использовать функцию <code>type()</code>, которая возвращает тип данных объекта:</p>"
   ]
  },
  {
   "cell_type": "code",
   "execution_count": 1,
   "id": "ecf465a2-9bc7-413b-a6d4-2ba3093e2dc1",
   "metadata": {},
   "outputs": [
    {
     "name": "stdout",
     "output_type": "stream",
     "text": [
      "<class 'str'>\n"
     ]
    }
   ],
   "source": [
    "a = 'Hello'\n",
    "\n",
    "print(type(a))"
   ]
  },
  {
   "cell_type": "markdown",
   "id": "29327c9a-d718-4024-a3b6-a0662fd40280",
   "metadata": {},
   "source": [
    "<p style=\"font-size: 18px;\">Строка является упорядоченной неизменяемой коллекцией значений. Так же, как и в списках, у каждого символа такой последовательности, даже если это пробел, есть свой порядковый номер - индекс.</p>"
   ]
  },
  {
   "cell_type": "code",
   "execution_count": 2,
   "id": "34dc37bc-35ae-4d67-9d8b-e6ad09b7dc6b",
   "metadata": {},
   "outputs": [
    {
     "name": "stdout",
     "output_type": "stream",
     "text": [
      "e\n"
     ]
    }
   ],
   "source": [
    "print(a[1])"
   ]
  },
  {
   "cell_type": "markdown",
   "id": "7c0d0940-8c6c-48cd-b2e7-66c4c764d646",
   "metadata": {},
   "source": [
    "<p style=\"font-size: 18px;\">Кавычки при определении строки, не имеют никакого значения, но важно, чтобы строка начиналась и заканчивалась одним и тем же типом кавычек.</p>\n",
    "\n",
    "<p style=\"font-size: 18px;\">Есть фраза, которая может сломать вам программу: <code>Hello, I'm a Python developer</code>. Дело в том, что апостроф - это одинарная кавычка. Соответственно, если вы сохраните эту фразу в одиночных кавычках, строка закончится на месте апострофа, все, что будет написано дальше, Python воспримет как переменные и будет на вас ругаться:</p>"
   ]
  },
  {
   "cell_type": "code",
   "execution_count": 3,
   "id": "e508fee1-7de5-451d-adae-c93a1cfc070f",
   "metadata": {},
   "outputs": [
    {
     "ename": "SyntaxError",
     "evalue": "unterminated string literal (detected at line 1) (1908393956.py, line 1)",
     "output_type": "error",
     "traceback": [
      "\u001b[0;36m  Cell \u001b[0;32mIn[3], line 1\u001b[0;36m\u001b[0m\n\u001b[0;31m    phrase = 'Hello, I'm a Python developer!'\u001b[0m\n\u001b[0m                                            ^\u001b[0m\n\u001b[0;31mSyntaxError\u001b[0m\u001b[0;31m:\u001b[0m unterminated string literal (detected at line 1)\n"
     ]
    }
   ],
   "source": [
    "phrase = 'Hello, I'm a Python developer!'\n",
    "\n",
    "print(phrase)"
   ]
  },
  {
   "cell_type": "markdown",
   "id": "ce60c269-1653-43b1-83af-d4a6b54bb63c",
   "metadata": {},
   "source": [
    "<p style=\"font-size: 18px;\">Вариантов решения два:</p>\n",
    "<ul style=\"font-size: 18px;\">\n",
    "    <li>Использовать экранирующий символ <code>\\</code>;</li>\n",
    "    <li>Использовать разные типы кавычек.</li>\n",
    "</ul>"
   ]
  },
  {
   "cell_type": "code",
   "execution_count": 4,
   "id": "9be7e165-b677-4e49-9ba9-c09787a0859f",
   "metadata": {},
   "outputs": [
    {
     "name": "stdout",
     "output_type": "stream",
     "text": [
      "Hello, I'm a Python developer!\n"
     ]
    }
   ],
   "source": [
    "phrase = 'Hello, I\\'m a Python developer!'\n",
    "\n",
    "print(phrase)"
   ]
  },
  {
   "cell_type": "markdown",
   "id": "46307355-e0d2-45f1-b9d3-11b687267e25",
   "metadata": {},
   "source": [
    "<p style=\"font-size: 18px;\">Экранирующий символ как бы запрещает читать следующий символ после него. Работает это ТОЛЬКО на одинарные кавычки. Его минус заключается в том, что его нужно будет поставить перед каждой одинарной кавычкой, которую вы хотите заигнорить. Поэтому гораздо проще использовать другой тип кавычек для определения строки:</p>"
   ]
  },
  {
   "cell_type": "code",
   "execution_count": 5,
   "id": "99dfefa7-6a1e-4cd0-b5a1-1df64eb50d89",
   "metadata": {},
   "outputs": [
    {
     "name": "stdout",
     "output_type": "stream",
     "text": [
      "Hello, I'm a Python developer!\n"
     ]
    }
   ],
   "source": [
    "phrase = \"Hello, I'm a Python developer!\"\n",
    "\n",
    "print(phrase)"
   ]
  },
  {
   "cell_type": "markdown",
   "id": "8e42523e-f102-4bb6-a042-339f0ba29986",
   "metadata": {},
   "source": [
    "# Арифметика \n",
    "\n",
    "<p style=\"font-size: 18px;\">Со строками можно выполнять арифметические действия. Например, можно сложить две строки. В этом случае вы получите единую объединенную строчку, состоящую из двух. <span style=\"color: red\">ВАЖНО! Строки можно складывать ТОЛЬКО со строками.</span></p>"
   ]
  },
  {
   "cell_type": "code",
   "execution_count": 6,
   "id": "3cdf5abf-157f-4689-bd86-9d53d1f19f6e",
   "metadata": {},
   "outputs": [
    {
     "name": "stdout",
     "output_type": "stream",
     "text": [
      "мама\n"
     ]
    }
   ],
   "source": [
    "a = 'ма'\n",
    "b = 'ма'\n",
    "c = a + b\n",
    "print(c)"
   ]
  },
  {
   "cell_type": "markdown",
   "id": "c3519eb1-a19e-489a-a5b0-4b0910176e7b",
   "metadata": {},
   "source": [
    "<p style=\"font-size: 18px;\">Строки можно умножать (только в питоне), поведение будет такое же, как и со списками:</p>"
   ]
  },
  {
   "cell_type": "code",
   "execution_count": 7,
   "id": "bc97803f-41f0-45ac-b4a0-bf8605483536",
   "metadata": {},
   "outputs": [
    {
     "name": "stdout",
     "output_type": "stream",
     "text": [
      "уууууу\n"
     ]
    }
   ],
   "source": [
    "a = 'у'\n",
    "print(a * 6)"
   ]
  },
  {
   "cell_type": "markdown",
   "id": "9770c650-2b35-40da-ad19-4be94064f9b4",
   "metadata": {},
   "source": [
    "<p style=\"font-size: 18px;\">Операция деления со строками:</p>\n",
    "\n",
    "<p style=\"font-size: 18px;\">Если у вас есть строка <code>a = 'мама'</code>, по логике, если разделить ее на 2, то получится две отдельные строки: <code>'ма'</code> и <code>'ма'</code>. Но! Есть важное правило: <span style=\"color: red; font-weight: bold;\">МАТЬ ДЕЛИТЬ НЕЛЬЗЯ и строчки тоже</span>.</p>\n",
    "\n",
    "<p style=\"font-size: 18px;\">Операция деления и разности - это две операции, которые можно производить ТОЛЬКО с числами, потому что они не логичные: 10 / 2 - это 1 и 9, а не 5 и 5. Со строчками, такая же штука: нет определенных правил в математике, которые позволили бы вам делить или отнимать друг от друга буквы.</p>\n",
    "\n",
    "# F-строки\n",
    "\n",
    "<p style=\"font-size: 18px;\">В строку можно вставить значение какой-либо переменной. Раньше это можно было сделать только с помощью функции <code>.format()</code>, но в Python с версии 3.7 была добавлена возможность строить f-строчки (форматированные). Синтаксис такой строки выглядит так: <br><code><b>f</b>'Содержание строки <b>{</b>переменная<b>} содержание строки.</b>'</code></p>"
   ]
  },
  {
   "cell_type": "code",
   "execution_count": 9,
   "id": "23c07153-3ea4-4b0d-b3cf-fd365059a99f",
   "metadata": {},
   "outputs": [
    {
     "name": "stdin",
     "output_type": "stream",
     "text": [
      "Сколько у вас котенков?  32\n"
     ]
    },
    {
     "name": "stdout",
     "output_type": "stream",
     "text": [
      "У меня 32 котенка.\n"
     ]
    }
   ],
   "source": [
    "pets = int(input('Сколько у вас котенков? '))\n",
    "print(f'У меня {pets} котенка.')"
   ]
  },
  {
   "cell_type": "markdown",
   "id": "a0f9f784-beb1-4476-bfb9-f9ea89c54220",
   "metadata": {},
   "source": [
    "# Перебор строки\n",
    "\n",
    "<p style=\"font-size: 18px;\">Строки можно перебирать с помощью циклов: возможны перебор и через индексы, и напрямую через <code>foreach</code>. В первом случае вы передаете циклу <code>range()</code> с коллекцией индексов в вашей строке (<code>len(строки)</code>), во втором случае вы передаете строчку напрямую в цикл.</p>"
   ]
  },
  {
   "cell_type": "code",
   "execution_count": 11,
   "id": "90316834-dcba-4d5b-b33e-139f1b520294",
   "metadata": {},
   "outputs": [
    {
     "name": "stdout",
     "output_type": "stream",
     "text": [
      "Индекс 0, символ: Г\n",
      "Индекс 1, символ: д\n",
      "Индекс 2, символ: е\n",
      "Индекс 3, символ:  \n",
      "Индекс 4, символ: м\n",
      "Индекс 5, символ: а\n",
      "Индекс 6, символ: м\n",
      "Индекс 7, символ: а\n",
      "Индекс 8, символ: ?\n"
     ]
    }
   ],
   "source": [
    "phrase = 'Где мама?'\n",
    "\n",
    "# вариант перебора через индексы\n",
    "for i in range(len(phrase)):\n",
    "    print(f'Индекс {i}, символ: {phrase[i]}')"
   ]
  },
  {
   "cell_type": "code",
   "execution_count": 12,
   "id": "72f7ff6e-ae65-430a-86f5-7ae7f5bf49b9",
   "metadata": {},
   "outputs": [
    {
     "name": "stdout",
     "output_type": "stream",
     "text": [
      "Символ: Г\n",
      "Символ: д\n",
      "Символ: е\n",
      "Символ:  \n",
      "Символ: м\n",
      "Символ: а\n",
      "Символ: м\n",
      "Символ: а\n",
      "Символ: ?\n"
     ]
    }
   ],
   "source": [
    "# вариант перебора напрямую\n",
    "for symbol in phrase:\n",
    "    print(f'Символ: {symbol}')"
   ]
  },
  {
   "cell_type": "markdown",
   "id": "e49b7d51-615b-49c8-bbcb-0092f1b3b5e9",
   "metadata": {},
   "source": [
    "<p style=\"font-size: 18px;\">То, что у строчек есть индексы, еще не значит, что вы можете с ними делать то же самое, что делаете со списками. Как минимум потому, что строка является неизменяемым объектом. Это означает, что по индексу в строке НЕЛЬЗЯ заменить какой-либо символ:</p>"
   ]
  },
  {
   "cell_type": "code",
   "execution_count": 13,
   "id": "755d5978-56b7-4eff-a3c9-483090aa5eb8",
   "metadata": {},
   "outputs": [
    {
     "ename": "TypeError",
     "evalue": "'str' object does not support item assignment",
     "output_type": "error",
     "traceback": [
      "\u001b[0;31m---------------------------------------------------------------------------\u001b[0m",
      "\u001b[0;31mTypeError\u001b[0m                                 Traceback (most recent call last)",
      "Cell \u001b[0;32mIn[13], line 2\u001b[0m\n\u001b[1;32m      1\u001b[0m word \u001b[38;5;241m=\u001b[39m \u001b[38;5;124m'\u001b[39m\u001b[38;5;124mмолоко\u001b[39m\u001b[38;5;124m'\u001b[39m\n\u001b[0;32m----> 2\u001b[0m \u001b[43mword\u001b[49m\u001b[43m[\u001b[49m\u001b[38;5;241;43m1\u001b[39;49m\u001b[43m]\u001b[49m \u001b[38;5;241m=\u001b[39m \u001b[38;5;124m'\u001b[39m\u001b[38;5;124mа\u001b[39m\u001b[38;5;124m'\u001b[39m\n",
      "\u001b[0;31mTypeError\u001b[0m: 'str' object does not support item assignment"
     ]
    }
   ],
   "source": [
    "word = 'молоко'\n",
    "word[1] = 'а'"
   ]
  },
  {
   "cell_type": "markdown",
   "id": "3b1166aa-b4bf-43e2-a437-b05598a5889a",
   "metadata": {},
   "source": [
    "<p style=\"font-size: 18px;\"><code><span style=\"color: red;\">TypeError</span>: 'str' object does not support item assignment</code> означает, что строки НЕ ПОДДЕРЖИВАЮТ переназначение элементов.</p>"
   ]
  },
  {
   "cell_type": "markdown",
   "id": "d4613574-e288-4d4b-8ec8-90f6f7bd4341",
   "metadata": {},
   "source": [
    "<p style=\"font-size: 18px;\">Строки можно разрезать, так же, как и списки:</p>\n",
    "\n",
    "<p style=\"font-size: 18px;\">Для разрезания строк на подстроки используется система индексации. Логика точно такая же, как у <code>range()</code>. В срезах тоже есть точки <b>start</b>, <b>stop</b> и <b>step</b>. Работают они ТОЧНО ТАК ЖЕ, как в <code>range()</code>. Cинтаксис срезов выглядит так:</p>\n",
    "\n",
    "<ul style=\"font-size: 18px;\">\n",
    "    <li><code>название[5:11]</code> - вырезать из строки элементы с индексами от 5 до 10 включительно;</li>\n",
    "    <li><code>название[1:10:2]</code> - вырезать из строки элементы с индексами 1, 3, 5, 7, 9;</li>\n",
    "    <li><code>название[:5]</code> - вырезать из строки элементы с 0 индекса по 4 включительно;</li>\n",
    "    <li><code>название[10:]</code> - вырезать из строки элементы с индекса 10 до конца включительно;</li>\n",
    "    <li><code>название[::]</code> - вырезать из строки все элементы;</li>\n",
    "    <li><code>название[::-1]</code> - вырезать из строки все элементы в обратном порядке.</li>\n",
    "</ul>\n",
    "\n",
    "# Методы строк\n",
    "\n",
    "<p style=\"font-size: 18px;\">Строчки обладают одним из самых больших наборов методов:</p>\n",
    "<table>\n",
    "    <thead>\n",
    "    <tr>\n",
    "        <th>Метод</th>\n",
    "        <th>Описание</th>\n",
    "    </tr>\n",
    "    </thead>\n",
    "    <tbody>\n",
    "    <tr>\n",
    "        <td><code>.len()</code></td>\n",
    "        <td>Определяет длину строки и возвращает число равное длине этой строки.</td>\n",
    "    </tr>\n",
    "    <tr>\n",
    "        <td><code>.find([start], [end])</code></td>\n",
    "        <td>Находит подстроку в строке, возвращает индекс первого вхождения или -1, если такой подстроки нет.</td>\n",
    "    </tr>\n",
    "    <tr>\n",
    "        <td><code>.replace(шаблон, замену, макс_количество)</code></td>\n",
    "        <td>Замена символа или последовательности символов в строке. При помощи <code>макс_количество</code> можно указать, сколько элементов вы хотите в строке заменить.</td>\n",
    "    </tr>\n",
    "    <tr>\n",
    "        <td><code>.split(разделитель)</code></td>\n",
    "        <td>Превращает строку в список по разделителю (по умолчанию по пробелу).</td>\n",
    "    </tr>\n",
    "    <tr>\n",
    "        <td><code>.isalpha()</code></td>\n",
    "        <td>Определяет, является ли символ строки символом алфавита (буквой) ИЛИ написана ли вся строка с помощью букв.</td>\n",
    "    </tr>\n",
    "    <tr>\n",
    "        <td><code>.isdigit()</code></td>\n",
    "        <td>Определяет, является ли символ строки цифрой (только цифры) ИЛИ написана ли вся строка с помощью цифр.</td>\n",
    "    </tr>\n",
    "    <tr>\n",
    "        <td><code>.islower()</code></td>\n",
    "        <td>Определяет, является ли символ строки маленькой буквой ИЛИ написана ли вся строка маленькими буквами.</td>\n",
    "    </tr>\n",
    "    <tr>\n",
    "        <td><code>.isupper()</code></td>\n",
    "        <td>Определяет, является ли символ строки большой буквой ИЛИ написана ли вся строка большими буквами.</td>\n",
    "    </tr>\n",
    "    <tr>\n",
    "        <td><code>.upper()</code></td>\n",
    "        <td>Переводит всю строку в верхний регистр (капс)</td>\n",
    "    </tr>\n",
    "    <tr>\n",
    "        <td><code>.lower()</code></td>\n",
    "        <td>Переводит всю строку в нижний регистр (все буквы маленькие)</td>\n",
    "    </tr>\n",
    "    <tr>\n",
    "        <td><code>.capitalize()</code></td>\n",
    "        <td>Пишет все буквы в строке маленькими, кроме первой буквы.</td>\n",
    "    </tr>\n",
    "    <tr>\n",
    "        <td><code>.join(разделитель)</code></td>\n",
    "        <td>Собирает строку из списка значений с разделителем.</td>\n",
    "    </tr>\n",
    "    <tr>\n",
    "        <td><code>ord(символ)</code></td>\n",
    "        <td>Возвращает числовой код символа в таблице ASCII.</td>\n",
    "    </tr>\n",
    "    <tr>\n",
    "        <td><code>chr(код)</code></td>\n",
    "        <td>Возвращает символ по числовому коду таблицы ASCII.</td>\n",
    "    </tr>\n",
    "    </tbody>\n",
    "</table>\n",
    "\n",
    "<p style=\"font-size: 18px;\">Методы пишутся через точку после переменной, которая хранит в себе строку.</p>"
   ]
  },
  {
   "cell_type": "code",
   "execution_count": 21,
   "id": "d19c3ee1-9b3a-4c75-8dcc-1b35d4d81b9a",
   "metadata": {},
   "outputs": [
    {
     "name": "stdout",
     "output_type": "stream",
     "text": [
      "малако\n",
      "@л@в@\n"
     ]
    }
   ],
   "source": [
    "word = 'молоко'\n",
    "word = word.replace('о', 'а', 2)\n",
    "print(word)\n",
    "\n",
    "word1 = 'олово'\n",
    "print(word1.replace('о', '@'))  # если не указать количество замен, будут заменены все буквы соответствующие шаблону "
   ]
  },
  {
   "cell_type": "code",
   "execution_count": 33,
   "id": "973f37c1-36de-42ee-bc8f-9628afe41cb7",
   "metadata": {},
   "outputs": [
    {
     "name": "stdin",
     "output_type": "stream",
     "text": [
      "Введите строчку: Привет, Андрей! Зачем ты плюнул в голубей?\n"
     ]
    },
    {
     "name": "stdout",
     "output_type": "stream",
     "text": [
      "['Привет,', 'Андрей!', 'Зачем', 'ты', 'плюнул', 'в', 'голубей?']\n"
     ]
    }
   ],
   "source": [
    "phrase = input('Введите строчку:')\n",
    "\n",
    "phrase = phrase.split()  # по умолчанию в разделителе находится пробел\n",
    "print(phrase)"
   ]
  },
  {
   "cell_type": "code",
   "execution_count": 34,
   "id": "7a13f900-2164-4263-80a7-039a2817e765",
   "metadata": {},
   "outputs": [
    {
     "name": "stdin",
     "output_type": "stream",
     "text": [
      "Введите фразу большими буквами:  Мама мыла раму, где мама?\n"
     ]
    },
    {
     "name": "stdout",
     "output_type": "stream",
     "text": [
      "Ты дурак! Надо было вот так: \"МАМА МЫЛА РАМУ, ГДЕ МАМА?\"\n"
     ]
    }
   ],
   "source": [
    "phrase1 = input('Введите фразу большими буквами: ')\n",
    "\n",
    "if phrase1.isupper():\n",
    "    print('Молодец, спс!')\n",
    "else:\n",
    "    print(f'Ты дурак! Надо было вот так: \"{phrase1.upper()}\"')"
   ]
  },
  {
   "cell_type": "code",
   "execution_count": 35,
   "id": "efd9030c-35c8-4408-904c-58ce04b31c8c",
   "metadata": {},
   "outputs": [
    {
     "name": "stdout",
     "output_type": "stream",
     "text": [
      "Ирина Аллегрова пропела: Привет, Андрей! Зачем ты плюнул в голубей?\n"
     ]
    }
   ],
   "source": [
    "string = 'Ирина Аллегрова пропела: '\n",
    "sep = ' '\n",
    "string += sep.join(phrase)\n",
    "print(string)"
   ]
  },
  {
   "cell_type": "markdown",
   "id": "23b783aa-02a4-49c3-bab4-665d31811788",
   "metadata": {},
   "source": [
    "# Сравнение строк\n",
    "\n",
    "<p style=\"font-size: 18px;\">Строки можно сравнивать между собой при помощи операторов сравнения. При этом слон меньше мыши.</p>"
   ]
  },
  {
   "cell_type": "code",
   "execution_count": 36,
   "id": "133a6b96-52b3-40b7-9120-2a73a0327522",
   "metadata": {},
   "outputs": [
    {
     "name": "stdout",
     "output_type": "stream",
     "text": [
      "False\n"
     ]
    }
   ],
   "source": [
    "print('elephant' > 'mouse')"
   ]
  },
  {
   "cell_type": "markdown",
   "id": "18932cdc-0d82-4b51-a706-b16bf5a31c7d",
   "metadata": {},
   "source": [
    "<p style=\"font-size: 18px;\">Так как строчки довольно сложно сравнивать, используется особое сравнение: <b>кто в алфавите стоит раньше, тот и меньше.</b> Сравнений по длине слов, по смыслу слов или еще по какой-либо причине НЕТ и не будет. Строки сравниваются по положению букв в алфавите:</p>"
   ]
  },
  {
   "cell_type": "code",
   "execution_count": 37,
   "id": "28fed8c6-1aaf-4e37-b6f4-54bd0b6d235d",
   "metadata": {},
   "outputs": [
    {
     "name": "stdout",
     "output_type": "stream",
     "text": [
      "True\n"
     ]
    }
   ],
   "source": [
    "print('яблоко' > 'яблоки')"
   ]
  },
  {
   "cell_type": "markdown",
   "id": "5d873085-f484-4441-a657-9b9027ccd98f",
   "metadata": {},
   "source": [
    "<p style=\"font-size: 18px;\">Если в строчках буквы одинаковые, но одна из них будет отличаться, то проверка будет проводиться только по отличающейся букве:</p>"
   ]
  },
  {
   "cell_type": "code",
   "execution_count": 38,
   "id": "14c3db02-acbd-4e82-aa41-0f56b940682f",
   "metadata": {},
   "outputs": [
    {
     "name": "stdout",
     "output_type": "stream",
     "text": [
      "True\n"
     ]
    }
   ],
   "source": [
    "print('яблоко' == 'яблоко')"
   ]
  },
  {
   "cell_type": "code",
   "execution_count": null,
   "id": "4f7dcc80-eb9d-4d69-b0e5-57bcf8681b38",
   "metadata": {},
   "outputs": [],
   "source": []
  }
 ],
 "metadata": {
  "kernelspec": {
   "display_name": "Python 3 (ipykernel)",
   "language": "python",
   "name": "python3"
  },
  "language_info": {
   "codemirror_mode": {
    "name": "ipython",
    "version": 3
   },
   "file_extension": ".py",
   "mimetype": "text/x-python",
   "name": "python",
   "nbconvert_exporter": "python",
   "pygments_lexer": "ipython3",
   "version": "3.11.2"
  }
 },
 "nbformat": 4,
 "nbformat_minor": 5
}
