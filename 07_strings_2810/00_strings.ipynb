{
 "cells": [
  {
   "cell_type": "markdown",
   "id": "d5bf335b-48ea-4808-b0be-2efd4af43a55",
   "metadata": {
    "ExecuteTime": {
     "end_time": "2023-10-28T11:38:13.235665Z",
     "start_time": "2023-10-28T11:38:13.215748Z"
    },
    "collapsed": true,
    "jupyter": {
     "outputs_hidden": true
    }
   },
   "source": [
    "# Строки <code>&lt;class 'str'&gt;</code>\n",
    "\n",
    "<p style=\"font-size: 18px;\"><b>Строка</b> - любая последовательность символов, которая заключена в кавычки. Тип кавычек значения не имеет, можно использовать <code>''</code> и <code>\"\"</code>.</p>\n",
    "\n",
    "<p style=\"font-size: 18px;\">Чтобы убедиться, что перед вами действительно строчка, можно использовать функцию <code>type(obj)</code>, которая возвращает тип объекта, переданного ей:</p>"
   ]
  },
  {
   "cell_type": "code",
   "execution_count": 1,
   "id": "1cf2eb82-4458-480c-b894-d453edfc5d52",
   "metadata": {},
   "outputs": [
    {
     "name": "stdout",
     "output_type": "stream",
     "text": [
      "<class 'str'>\n"
     ]
    }
   ],
   "source": [
    "phrase = 'Hello, world!'\n",
    "\n",
    "print(type(phrase))"
   ]
  },
  {
   "cell_type": "markdown",
   "id": "2fc8d3dd-1f3e-4031-b1e1-bce913b36f8e",
   "metadata": {},
   "source": [
    "<p style=\"font-size: 18px;\">Строки в Python являются упорядоченными и неизменяемыми коллекциями. Так же, как и в списках, у каждого элемента, даже если это пробел, есть свой порядковый номер, который называется индексом.</p>"
   ]
  },
  {
   "cell_type": "code",
   "execution_count": 2,
   "id": "620e8443-af17-4fb8-b4fa-15d7920fe9ce",
   "metadata": {},
   "outputs": [
    {
     "name": "stdout",
     "output_type": "stream",
     "text": [
      "e\n"
     ]
    }
   ],
   "source": [
    "print(phrase[1])"
   ]
  },
  {
   "cell_type": "markdown",
   "id": "b356e003-390a-4beb-b3e3-fdadd83de694",
   "metadata": {},
   "source": [
    "<p style=\"font-size: 18px;\">Тип кавычек не имеет значения, но строка должна начинаться и заканчиваться одинаковым типом кавычек.</p>\n",
    "\n",
    "<p style=\"font-size: 18px;\">Есть момент, который ломает представление о типе кавычек, это фразы с апострофом.</p>"
   ]
  },
  {
   "cell_type": "code",
   "execution_count": 3,
   "id": "c01284e5-667d-46d8-ad31-16e8d69be9bf",
   "metadata": {},
   "outputs": [
    {
     "ename": "SyntaxError",
     "evalue": "unterminated string literal (detected at line 1) (4092732373.py, line 1)",
     "output_type": "error",
     "traceback": [
      "\u001b[0;36m  Cell \u001b[0;32mIn[3], line 1\u001b[0;36m\u001b[0m\n\u001b[0;31m    p = 'Hello, I'm a Python developer!'\u001b[0m\n\u001b[0m                                       ^\u001b[0m\n\u001b[0;31mSyntaxError\u001b[0m\u001b[0;31m:\u001b[0m unterminated string literal (detected at line 1)\n"
     ]
    }
   ],
   "source": [
    "p = 'Hello, I'm a Python developer!'\n"
   ]
  },
  {
   "cell_type": "markdown",
   "id": "8a23bff5-b699-4761-8517-f6ee7f9271d7",
   "metadata": {},
   "source": [
    "<p style=\"font-size: 18px;\">Вариантов решения 2</p>\n",
    "\n",
    "<ul style=\"font-size: 18px;\">\n",
    "    <li>Использовать разные типы кавычек (начать определять строку двойными)</li>\n",
    "    <li>Использовать символ экранирования <code>\\</code> (работает только с кавычками)</li>\n",
    "</ul>"
   ]
  },
  {
   "cell_type": "code",
   "execution_count": 5,
   "id": "fe1da1f0-b71d-4609-9617-6d24eed01b14",
   "metadata": {},
   "outputs": [],
   "source": [
    "h = \"Hello, I'm a Python developer!\"\n",
    "h1 = 'Hello I\\'m a Python developer!'"
   ]
  },
  {
   "cell_type": "markdown",
   "id": "47e3fede-9fdd-4a1e-b0b9-13b0be5bc4ab",
   "metadata": {},
   "source": [
    "<p style=\"font-size: 18px;\">Символ экранирования как бы запрещает интерпретатору воспринимать символ, который идет после него. Работает это только на кавычки. Его минус заключается в том, что при наличии большого количества кавычек, вы будете страдать. Поэтому лучше использовать двойные кавычки или писать <code>I am</code>.</p>\n"
   ]
  },
  {
   "cell_type": "markdown",
   "id": "f28e9ef2-a0bd-424c-a8ea-dec02e40b3e9",
   "metadata": {},
   "source": [
    "# Переборы\n",
    "\n",
    "<p style=\"font-size: 18px;\">Строки можно перебирать с помощью циклов. Переборы возможны и черех индексы, и напрямую с передачей символов в управляющую переменную цикла.</p>"
   ]
  },
  {
   "cell_type": "code",
   "execution_count": 6,
   "id": "9777f84d-e743-455d-85d0-a7d603fe4576",
   "metadata": {},
   "outputs": [
    {
     "name": "stdout",
     "output_type": "stream",
     "text": [
      "index: 0, symbol: Г\n",
      "index: 1, symbol: д\n",
      "index: 2, symbol: е\n",
      "index: 3, symbol:  \n",
      "index: 4, symbol: м\n",
      "index: 5, symbol: а\n",
      "index: 6, symbol: м\n",
      "index: 7, symbol: а\n",
      "index: 8, symbol: ?\n"
     ]
    }
   ],
   "source": [
    "phrase = 'Где мама?'\n",
    "\n",
    "for i in range(len(phrase)):\n",
    "    print(f'index: {i}, symbol: {phrase[i]}')"
   ]
  },
  {
   "cell_type": "code",
   "execution_count": 7,
   "id": "b877cbb9-3eec-42b1-a7be-7a77bb6cc024",
   "metadata": {},
   "outputs": [
    {
     "name": "stdout",
     "output_type": "stream",
     "text": [
      "symbol: Г\n",
      "symbol: д\n",
      "symbol: е\n",
      "symbol:  \n",
      "symbol: м\n",
      "symbol: а\n",
      "symbol: м\n",
      "symbol: а\n",
      "symbol: ?\n"
     ]
    }
   ],
   "source": [
    "for symbol in phrase:\n",
    "    print(f'symbol: {symbol}')"
   ]
  },
  {
   "cell_type": "markdown",
   "id": "6370b58b-a62d-42bb-86da-51b77b3f31fb",
   "metadata": {},
   "source": [
    "# 5. Разрезание строки\n",
    "\n",
    "<p style=\"font-size: 18px;\">Для разрезания строк на подстроки используется система индексации. Логика точно такая же, как у <code>range()</code>. В срезах тоже есть точки <b>start</b>, <b>stop</b> и <b>step</b>. Работают они ТОЧНО ТАК ЖЕ, как в <code>range()</code>. Cинтаксиси срезов выглядит так:</p>\n",
    "\n",
    "<ul style=\"font-size: 18px;\">\n",
    "    <li><code>название[5:11]</code> - вырезать из строки элементы с индексами от 5 до 10 включительно;</li>\n",
    "    <li><code>название[1:10:2]</code> - вырезать из строки элементы с индексами 1, 3, 5, 7, 9;</li>\n",
    "    <li><code>название[:5]</code> - вырезать из строки элементы с 0 индекса по 4 включительно;</li>\n",
    "    <li><code>название[10:]</code> - вырезать из строки элементы с индекса 10 до конца включительно;</li>\n",
    "    <li><code>название[::]</code> - вырезать из строки все элементы;</li>\n",
    "    <li><code>название[::-1]</code> - вырезать из строки все элементы в обратном порядке.</li>\n",
    "</ul>"
   ]
  },
  {
   "cell_type": "code",
   "execution_count": 10,
   "id": "7d2e3396-bdf2-4954-96da-5e33e5492586",
   "metadata": {},
   "outputs": [
    {
     "name": "stdout",
     "output_type": "stream",
     "text": [
      "Молоко\n"
     ]
    }
   ],
   "source": [
    "p = 'Малоко'\n",
    "p1 = p[:1]\n",
    "p2 = p[2:]\n",
    "p = p1 + 'о' + p2\n",
    "print(p)\n",
    "# пример плохой замены символа в строке"
   ]
  },
  {
   "cell_type": "markdown",
   "id": "e772ed85-940e-4670-9ac7-59ec23551a45",
   "metadata": {},
   "source": [
    "# Методы строк\n",
    "\n",
    "<p style=\"font-size: 18px;\">Строчки обладают одним из самых больших наборов методов:</p>\n",
    "<table>\n",
    "    <thead>\n",
    "    <tr>\n",
    "        <th>Метод</th>\n",
    "        <th>Описание</th>\n",
    "    </tr>\n",
    "    </thead>\n",
    "    <tbody>\n",
    "    <tr>\n",
    "        <td><code>len()</code></td>\n",
    "        <td>Определяет длину строки и возвращает число равное длине этой строки.</td>\n",
    "    </tr>\n",
    "    <tr>\n",
    "        <td><code>.find([start], [end])</code></td>\n",
    "        <td>Находит подстроку в строке, возвращает индекс первого вхождения или -1, если такой подстроки нет.</td>\n",
    "    </tr>\n",
    "    <tr>\n",
    "        <td><code>.replace(шаблон, замену, макс_количество)</code></td>\n",
    "        <td>Замена символа или последовательности символов в строке. При помощи <code>макс_количество</code> можно указать, сколько элементов вы хотите в строке заменить.</td>\n",
    "    </tr>\n",
    "    <tr>\n",
    "        <td><code>.split(разделитель)</code></td>\n",
    "        <td>Превращает строку в список по разделителю (по умолчанию по пробелу).</td>\n",
    "    </tr>\n",
    "    <tr>\n",
    "        <td><code>.isalpha()</code></td>\n",
    "        <td>Определяет, является ли символ строки символом алфавита (буквой) ИЛИ написана ли вся строка с помощью букв.</td>\n",
    "    </tr>\n",
    "    <tr>\n",
    "        <td><code>.isdigit()</code></td>\n",
    "        <td>Определяет, является ли символ строки цифрой (только цифры) ИЛИ написана ли вся строка с помощью цифр.</td>\n",
    "    </tr>\n",
    "    <tr>\n",
    "        <td><code>.islower()</code></td>\n",
    "        <td>Определяет, является ли символ строки маленькой буквой ИЛИ написана ли вся строка маленькими буквами.</td>\n",
    "    </tr>\n",
    "    <tr>\n",
    "        <td><code>.isupper()</code></td>\n",
    "        <td>Определяет, является ли символ строки большой буквой ИЛИ написана ли вся строка большими буквами.</td>\n",
    "    </tr>\n",
    "    <tr>\n",
    "        <td><code>.upper()</code></td>\n",
    "        <td>Переводит всю строку в верхний регистр (капс)</td>\n",
    "    </tr>\n",
    "    <tr>\n",
    "        <td><code>.lower()</code></td>\n",
    "        <td>Переводит всю строку в нижний регистр (все буквы маленькие)</td>\n",
    "    </tr>\n",
    "    <tr>\n",
    "        <td><code>.capitalize()</code></td>\n",
    "        <td>Пишет все буквы в строке маленькими, кроме первой буквы.</td>\n",
    "    </tr>\n",
    "    <tr>\n",
    "        <td><code>.join(разделитель)</code></td>\n",
    "        <td>Собирает строку из списка значений с разделителем.</td>\n",
    "    </tr>\n",
    "    <tr>\n",
    "        <td><code>ord(символ)</code></td>\n",
    "        <td>Возвращает числовой код символа в таблице ASCII.</td>\n",
    "    </tr>\n",
    "    <tr>\n",
    "        <td><code>chr(код)</code></td>\n",
    "        <td>Возвращает символ по числовому коду таблицы ASCII.</td>\n",
    "    </tr>\n",
    "    </tbody>\n",
    "</table>\n",
    "\n",
    "<p style=\"font-size: 18px;\">Методы пишутся через точку после переменной, которая хранит в себе строку.</p>"
   ]
  },
  {
   "cell_type": "code",
   "execution_count": 14,
   "id": "1087a7c9-cc4e-478b-ad7f-ab98521fde41",
   "metadata": {},
   "outputs": [
    {
     "name": "stdout",
     "output_type": "stream",
     "text": [
      "малака\n",
      "малако\n"
     ]
    }
   ],
   "source": [
    "word = 'молоко'\n",
    "word1 = word.replace('о', 'а')\n",
    "print(word1)\n",
    "word2 = word.replace('о', 'а', 2)\n",
    "print(word2)"
   ]
  },
  {
   "cell_type": "code",
   "execution_count": 21,
   "id": "46af5fdf-4d96-4c20-8a8f-0da0a82aed26",
   "metadata": {},
   "outputs": [
    {
     "name": "stdout",
     "output_type": "stream",
     "text": [
      "['Привет,', 'Андрей!', 'Зачем', 'ты', 'плюнул', 'в', 'голубей?']\n",
      "['Привет', ' Андрей! Зачем ты плюнул в голубей?']\n"
     ]
    }
   ],
   "source": [
    "phrase = 'Привет, Андрей! Зачем ты плюнул в голубей?'\n",
    "\n",
    "phrase_list = phrase.split()  # если не указать разделитель, по умолчанию будет использоваться пробел.\n",
    "phrase_list_comma = phrase.split(',')\n",
    "print(phrase_list)\n",
    "print(phrase_list_comma)"
   ]
  },
  {
   "cell_type": "code",
   "execution_count": 22,
   "id": "cbc0fdf3-53ea-4fbf-9c0b-75c0a03ea23b",
   "metadata": {},
   "outputs": [
    {
     "name": "stdin",
     "output_type": "stream",
     "text": [
      "Введи что-то большими буквами:  Мама мыла раму, где мама?\n"
     ]
    },
    {
     "name": "stdout",
     "output_type": "stream",
     "text": [
      "Ты дурак! надо было вот так: МАМА МЫЛА РАМУ, ГДЕ МАМА?\n"
     ]
    }
   ],
   "source": [
    "phrase = input('Введи что-то большими буквами: ')\n",
    "\n",
    "if phrase.isupper():\n",
    "    print('Молодец!')\n",
    "else:\n",
    "    print(f'Ты дурак! надо было вот так: {phrase.upper()}')"
   ]
  },
  {
   "cell_type": "code",
   "execution_count": 25,
   "id": "8e88af83-b362-47b9-817b-d6d1d3a19e41",
   "metadata": {},
   "outputs": [
    {
     "name": "stdout",
     "output_type": "stream",
     "text": [
      "Иришка Аллегрова пропела: Привет, Андрей! Зачем ты плюнул в голубей?\n"
     ]
    }
   ],
   "source": [
    "string = \"Иришка Аллегрова пропела: \"\n",
    "sep = ' '\n",
    "string += sep.join(phrase_list)\n",
    "\n",
    "print(string)"
   ]
  },
  {
   "cell_type": "code",
   "execution_count": 27,
   "id": "9b5158d5-761b-4c02-b049-eeecf06c858f",
   "metadata": {},
   "outputs": [
    {
     "name": "stdout",
     "output_type": "stream",
     "text": [
      "104\n",
      "×\n"
     ]
    }
   ],
   "source": [
    "print(ord('h'))  # получить порядковый номер символа h в таблице ASCII\n",
    "print(chr(215))  # получить символ по числовому коду из таблицы ASCII"
   ]
  },
  {
   "cell_type": "markdown",
   "id": "60387459-d8b1-4488-99ff-b9d4f624c897",
   "metadata": {},
   "source": [
    "# Сравнение строк \n",
    "\n",
    "<p style=\"font-size: 18px;\"></p>"
   ]
  },
  {
   "cell_type": "code",
   "execution_count": null,
   "id": "44688b28-d368-49a5-ac97-99e0d74bef7d",
   "metadata": {},
   "outputs": [],
   "source": []
  }
 ],
 "metadata": {
  "kernelspec": {
   "display_name": "Python 3 (ipykernel)",
   "language": "python",
   "name": "python3"
  },
  "language_info": {
   "codemirror_mode": {
    "name": "ipython",
    "version": 3
   },
   "file_extension": ".py",
   "mimetype": "text/x-python",
   "name": "python",
   "nbconvert_exporter": "python",
   "pygments_lexer": "ipython3",
   "version": "3.11.2"
  }
 },
 "nbformat": 4,
 "nbformat_minor": 5
}
