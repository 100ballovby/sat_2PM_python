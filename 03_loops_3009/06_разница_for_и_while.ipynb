{
 "cells": [
  {
   "cell_type": "markdown",
   "id": "5abac4d2-f44e-401c-b26f-8f2c57927f33",
   "metadata": {
    "ExecuteTime": {
     "end_time": "2023-09-30T12:22:48.505492Z",
     "start_time": "2023-09-30T12:22:48.488030Z"
    },
    "collapsed": true,
    "jupyter": {
     "outputs_hidden": true
    }
   },
   "source": [
    "# Циклы <code>for</code> и <code>while</code>\n",
    "\n",
    "<p style=\"font-size: 18px;\">Предположим, что передо мной стоит задача: мне нужно собрать 10 уникальных четных чисел и поместить их в условную коллекцию. В этом случае мне нужна коллекция, генератор случайных чисел и цикл. Но при такой постановке задачи гораздо удобнее использовать цикл <code>while</code>.</p>"
   ]
  },
  {
   "cell_type": "code",
   "execution_count": 11,
   "id": "2a3db95c-074f-456c-b703-fb8d19781cac",
   "metadata": {},
   "outputs": [
    {
     "name": "stdout",
     "output_type": "stream",
     "text": [
      "[16, 98, 8, 30, 46]\n"
     ]
    }
   ],
   "source": [
    "import random as r \n",
    "\n",
    "collection = []\n",
    "\n",
    "for i in range(10):\n",
    "    n = r.randint(1, 100)\n",
    "    if n % 2 == 0 and n not in collection:\n",
    "        collection.append(n)\n",
    "\n",
    "print(collection)"
   ]
  },
  {
   "cell_type": "markdown",
   "id": "aaa1b4ba-84de-4115-b312-c062a457b68b",
   "metadata": {},
   "source": [
    "<p style=\"font-size: 18px;\">циклу <code>for</code> было дано четкое указание: выполнить 10 повторений, в каждом из повторений сгенерировать число, а затем, если оно подходит под условие, добавить его в коллекцию. Он выполнил все, но количество чисел в коллекции практически никогда не будет равно 10, потому что генерация чисел случайна, а циклу дано всего лишь 10 повторений.</p>"
   ]
  },
  {
   "cell_type": "code",
   "execution_count": 8,
   "id": "ced7da04-d928-4eb5-8d2f-4b2484ecfcca",
   "metadata": {},
   "outputs": [
    {
     "name": "stdout",
     "output_type": "stream",
     "text": [
      "[44, 96, 78, 38, 18, 80, 10, 86, 60, 48]\n"
     ]
    }
   ],
   "source": [
    "import random as r \n",
    "\n",
    "collection = []\n",
    "\n",
    "while len(collection) < 10:\n",
    "    n = r.randint(1, 100)\n",
    "    if n % 2 == 0 and n not in collection:\n",
    "        collection.append(n)\n",
    "\n",
    "print(collection)"
   ]
  },
  {
   "cell_type": "code",
   "execution_count": null,
   "id": "71fb7a4e-4d3b-4e15-a445-c43829cc06fd",
   "metadata": {},
   "outputs": [],
   "source": []
  }
 ],
 "metadata": {
  "kernelspec": {
   "display_name": "Python 3 (ipykernel)",
   "language": "python",
   "name": "python3"
  },
  "language_info": {
   "codemirror_mode": {
    "name": "ipython",
    "version": 3
   },
   "file_extension": ".py",
   "mimetype": "text/x-python",
   "name": "python",
   "nbconvert_exporter": "python",
   "pygments_lexer": "ipython3",
   "version": "3.11.2"
  }
 },
 "nbformat": 4,
 "nbformat_minor": 5
}
