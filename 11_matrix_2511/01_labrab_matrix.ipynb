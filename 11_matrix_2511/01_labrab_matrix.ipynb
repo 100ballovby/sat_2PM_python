{
 "cells": [
  {
   "cell_type": "markdown",
   "id": "42f6dd4d-41d6-4907-b2c9-bec319c31c29",
   "metadata": {
    "ExecuteTime": {
     "end_time": "2023-11-25T11:49:07.566533Z",
     "start_time": "2023-11-25T11:49:07.558719Z"
    },
    "collapsed": true,
    "jupyter": {
     "outputs_hidden": true
    }
   },
   "source": [
    "# Лабораторная №2. Матрицы\n",
    "\n",
    "<p style=\"font-size: 18px\">У матриц есть две характеристики - это главная и побочная диагонали. Нужны исключительно для решения задачи, ничего в матрице не решают и не делают.</p>\n",
    "\n",
    "<img src=\"s1.png\">\n",
    "\n",
    "<p style=\"font-size: 18px\">Задача 1. Дана квадратная матрица. Найти сумму элементов, расположенных на главной диагонали.</p>"
   ]
  },
  {
   "cell_type": "code",
   "execution_count": null,
   "id": "1b347795-f839-4edf-85bc-a97bb207f361",
   "metadata": {},
   "outputs": [],
   "source": [
    "import random as r\n",
    "\n",
    "\n"
   ]
  }
 ],
 "metadata": {
  "kernelspec": {
   "display_name": "Python 3 (ipykernel)",
   "language": "python",
   "name": "python3"
  },
  "language_info": {
   "codemirror_mode": {
    "name": "ipython",
    "version": 3
   },
   "file_extension": ".py",
   "mimetype": "text/x-python",
   "name": "python",
   "nbconvert_exporter": "python",
   "pygments_lexer": "ipython3",
   "version": "3.11.2"
  }
 },
 "nbformat": 4,
 "nbformat_minor": 5
}
