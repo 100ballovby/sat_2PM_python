{
 "cells": [
  {
   "cell_type": "markdown",
   "id": "42f6dd4d-41d6-4907-b2c9-bec319c31c29",
   "metadata": {
    "ExecuteTime": {
     "end_time": "2023-11-25T11:49:07.566533Z",
     "start_time": "2023-11-25T11:49:07.558719Z"
    },
    "collapsed": true,
    "jupyter": {
     "outputs_hidden": true
    }
   },
   "source": [
    "# Лабораторная №2. Матрицы\n",
    "\n",
    "<p style=\"font-size: 18px\">У матриц есть две характеристики - это главная и побочная диагонали. Нужны исключительно для решения задачи, ничего в матрице не решают и не делают.</p>\n",
    "\n",
    "<img src=\"s1.png\">\n",
    "\n",
    "<p style=\"font-size: 18px\">Задача 1. Дана квадратная матрица. Найти сумму элементов, расположенных на главной диагонали.</p>"
   ]
  },
  {
   "cell_type": "code",
   "execution_count": 5,
   "id": "1b347795-f839-4edf-85bc-a97bb207f361",
   "metadata": {},
   "outputs": [
    {
     "name": "stdout",
     "output_type": "stream",
     "text": [
      "[71, 34, 48, 91, 36]\n",
      "[6, 93, 11, 66, 91]\n",
      "[54, 13, 51, 21, 89]\n",
      "[47, 98, 65, 71, 98]\n",
      "[70, 4, 66, 27, 31]\n"
     ]
    }
   ],
   "source": [
    "import random as r\n",
    "\n",
    "m1, n1 = 5, 5\n",
    "matrix1 = []\n",
    "for i in range(m1):\n",
    "    line = []\n",
    "    for j in range(n1):\n",
    "        line.append(r.randint(1, 100))\n",
    "    matrix1.append(line)\n",
    "\n",
    "print(*matrix1, sep=\"\\n\")"
   ]
  },
  {
   "cell_type": "markdown",
   "id": "2a079759-be0c-4196-912a-222f35101e8d",
   "metadata": {},
   "source": [
    "<p style=\"font-size: 18px;\">В данной матрице глазами можно выделить главную диагональ - это <code>71, 93, 51, 71, 31</code></p>\n",
    "\n",
    "<p style=\"font-size: 18px;\">Для того, чтобы вы могли кодом выделить главную диагональ, вам нужно помнить о том, что индексы чисел на главной диагонали, выглядят как <code>A<sub>00</sub>, A<sub>11</sub>, A<sub>22</sub>, A<sub>33</sub>...A<sub>nn</sub></code>. Так как индексы одинаковые, то для прохода главной диагонали, понадобится только один цикл <code>for</code>.</p>"
   ]
  },
  {
   "cell_type": "code",
   "execution_count": 6,
   "id": "f44d2df7-c08a-4e76-b59b-6d732bb67b32",
   "metadata": {},
   "outputs": [
    {
     "name": "stdout",
     "output_type": "stream",
     "text": [
      "71 93 51 71 31 "
     ]
    }
   ],
   "source": [
    "for i in range(len(matrix1)):\n",
    "    print(matrix1[i][i], end=' ')"
   ]
  },
  {
   "cell_type": "code",
   "execution_count": 7,
   "id": "f2f6a178-8691-4d5b-a5b2-8c6a3967f342",
   "metadata": {},
   "outputs": [
    {
     "name": "stdout",
     "output_type": "stream",
     "text": [
      "317\n"
     ]
    }
   ],
   "source": [
    "summ = 0\n",
    "for i in range(len(matrix1)):\n",
    "    summ += matrix1[i][i]\n",
    "\n",
    "print(summ)"
   ]
  },
  {
   "cell_type": "markdown",
   "id": "39bfc216-dd45-44f7-9aa9-8d615b955b82",
   "metadata": {},
   "source": [
    "<p style=\"font-size: 18px;\">В случае с прямоугольными матрицами:</p>"
   ]
  },
  {
   "cell_type": "code",
   "execution_count": 9,
   "id": "7387ae77-527e-4cce-879f-388c257eb01d",
   "metadata": {},
   "outputs": [],
   "source": [
    "A = [\n",
    "    [71, 34, 48, 91, 36],\n",
    "    [6, 93, 11, 66, 91],\n",
    "    [54, 13, 51, 21, 89],\n",
    "    [47, 98, 65, 71, 98]\n",
    "]"
   ]
  },
  {
   "cell_type": "markdown",
   "id": "3a9c4a6e-4222-46ab-b892-634aba23a727",
   "metadata": {},
   "source": [
    "<p style=\"font-size: 18px;\">В данной матрице глазами можно выделить главную диагональ - это <code>71, 93, 51, 71</code></p>"
   ]
  },
  {
   "cell_type": "code",
   "execution_count": 11,
   "id": "987f4a0a-32fe-4c64-826f-96a8d05e5ed5",
   "metadata": {},
   "outputs": [
    {
     "name": "stdout",
     "output_type": "stream",
     "text": [
      "286\n"
     ]
    }
   ],
   "source": [
    "summ = 0\n",
    "for i in range(len(A)):\n",
    "    summ += A[i][i]\n",
    "\n",
    "print(summ)"
   ]
  },
  {
   "cell_type": "code",
   "execution_count": 13,
   "id": "6567351c-a757-4bd0-9536-f786e19841a7",
   "metadata": {},
   "outputs": [
    {
     "ename": "IndexError",
     "evalue": "list index out of range",
     "output_type": "error",
     "traceback": [
      "\u001b[0;31m---------------------------------------------------------------------------\u001b[0m",
      "\u001b[0;31mIndexError\u001b[0m                                Traceback (most recent call last)",
      "Cell \u001b[0;32mIn[13], line 10\u001b[0m\n\u001b[1;32m      8\u001b[0m summ \u001b[38;5;241m=\u001b[39m \u001b[38;5;241m0\u001b[39m\n\u001b[1;32m      9\u001b[0m \u001b[38;5;28;01mfor\u001b[39;00m i \u001b[38;5;129;01min\u001b[39;00m \u001b[38;5;28mrange\u001b[39m(\u001b[38;5;28mlen\u001b[39m(B)):\n\u001b[0;32m---> 10\u001b[0m     summ \u001b[38;5;241m+\u001b[39m\u001b[38;5;241m=\u001b[39m \u001b[43mB\u001b[49m\u001b[43m[\u001b[49m\u001b[43mi\u001b[49m\u001b[43m]\u001b[49m\u001b[43m[\u001b[49m\u001b[43mi\u001b[49m\u001b[43m]\u001b[49m\n\u001b[1;32m     12\u001b[0m \u001b[38;5;28mprint\u001b[39m(summ)\n",
      "\u001b[0;31mIndexError\u001b[0m: list index out of range"
     ]
    }
   ],
   "source": [
    "B = [\n",
    "    [71, 34],\n",
    "    [6, 93],\n",
    "    [54, 13],\n",
    "    [47, 98]\n",
    "]\n",
    "\n",
    "summ = 0\n",
    "for i in range(len(B)):\n",
    "    summ += B[i][i]\n",
    "\n",
    "print(summ)"
   ]
  },
  {
   "cell_type": "markdown",
   "id": "e00de4aa-f363-4717-b1ce-958beb91982c",
   "metadata": {},
   "source": [
    "<p style=\"font-size: 18px;\">В данном случае используется матрица, которую в программировани никто и никогда не использует, но это не значит, что их нет. Для решения таких задач, нужно пользоваться маленькой хитростью в виде букв M и N, которые в свою очередь отвечают за количество строк и количество столбцов матрицы:</p>"
   ]
  },
  {
   "cell_type": "code",
   "execution_count": 18,
   "id": "5cadda96-b466-47aa-b910-9febc323788c",
   "metadata": {},
   "outputs": [
    {
     "name": "stdout",
     "output_type": "stream",
     "text": [
      "164\n"
     ]
    }
   ],
   "source": [
    "m, n = 4, 2\n",
    "B = [\n",
    "    [71, 34],\n",
    "    [6, 93],\n",
    "    [54, 13],\n",
    "    [47, 98]\n",
    "]\n",
    "\n",
    "if m > n:  # если количество строк больше количества столбцов, меняем эти значения местами \n",
    "    m, n = n, m\n",
    "\n",
    "summ = 0\n",
    "for i in range(m):\n",
    "    summ += B[i][i]\n",
    "\n",
    "print(summ)"
   ]
  },
  {
   "cell_type": "markdown",
   "id": "9392d194-e014-462d-a59d-0fb98b8db181",
   "metadata": {},
   "source": [
    "<p style=\"font-size: 18px;\"><b style=\"color: red;\">Внимание!</b> Когда вы менете местами значения переменных <code>n</code> и <code>m</code> (количество строк и столбцов одновременно), вы НИЧЕГО не меняете в самой матрице. просто при такой смене, ваш цикл читает матрицу по математическим правилам. А по этим правилам строки матрицы не важны, а столбцы важны.</p>\n",
    "\n",
    "<p style=\"font-size: 18px;\"><b>Задача 2.</b> Дана квадратная матрица. Найти сумму элементов, расположенных на побочной диагонали.</p>"
   ]
  },
  {
   "cell_type": "code",
   "execution_count": 19,
   "id": "651cbc02-79e1-4cf3-a79e-13dd90f59329",
   "metadata": {},
   "outputs": [
    {
     "name": "stdout",
     "output_type": "stream",
     "text": [
      "[89, 63, 26, 18, 81]\n",
      "[41, 16, 67, 47, 52]\n",
      "[40, 97, 51, 60, 26]\n",
      "[37, 59, 53, 50, 89]\n",
      "[86, 30, 12, 9, 82]\n"
     ]
    }
   ],
   "source": [
    "import random as r\n",
    "\n",
    "m1, n1 = 5, 5\n",
    "matrix1 = []\n",
    "for i in range(m1):\n",
    "    line = []\n",
    "    for j in range(n1):\n",
    "        line.append(r.randint(1, 100))\n",
    "    matrix1.append(line)\n",
    "\n",
    "print(*matrix1, sep=\"\\n\")"
   ]
  },
  {
   "cell_type": "markdown",
   "id": "d4f9c2da-c9d2-4f9b-a48e-70619e6ba6c7",
   "metadata": {},
   "source": [
    "<p style=\"font-size: 18px;\">В данной матрице глазами можно выделить побочную диагональ - это <code>81, 47, 51, 59, 86</code></p>\n",
    "\n",
    "<p style=\"font-size: 18px;\">Для того, чтобы вы могли кодом выделить побочную диагональ, вам нужно помнить о том, что индексы чисел на побочной диагонали, выглядят как <code>A<sub>04</sub>, A<sub>13</sub>, A<sub>22</sub>, A<sub>31</sub>A<sub>40</sub></code>. Так как индексы одинаковые, то для прохода побочной диагонали, понадобится только один цикл <code>for</code>. Для того, чтобы высчитать побочную диагональ, используется формула: <code>n - i - 1</code>.</p>"
   ]
  },
  {
   "cell_type": "code",
   "execution_count": 20,
   "id": "049ce421-af47-4395-ba67-9d8e7988bab3",
   "metadata": {},
   "outputs": [
    {
     "name": "stdout",
     "output_type": "stream",
     "text": [
      "81 47 51 59 86 "
     ]
    }
   ],
   "source": [
    "for i in range(len(matrix1)):\n",
    "    print(matrix1[i][n1 - i - 1], end=' ')"
   ]
  },
  {
   "cell_type": "code",
   "execution_count": 21,
   "id": "01f29935-43a3-421d-a971-0ddb618de8f7",
   "metadata": {},
   "outputs": [
    {
     "name": "stdout",
     "output_type": "stream",
     "text": [
      "324\n"
     ]
    }
   ],
   "source": [
    "summ = 0\n",
    "for i in range(len(matrix1)):\n",
    "    summ += matrix1[i][n1 - i - 1]\n",
    "\n",
    "print(summ)"
   ]
  },
  {
   "cell_type": "markdown",
   "id": "684f2646-0c82-4795-a443-469bbd1ece0c",
   "metadata": {},
   "source": [
    "<p style=\"font-size: 18px;\">Для прямоугольников решение точно такое же, как в случае с главной диагональю, но вам нужны для прямоугольников переменные с длиной строк и столбцов.</p>"
   ]
  },
  {
   "cell_type": "code",
   "execution_count": 26,
   "id": "2b0e8eee-230e-4e0d-b1a2-c1f9eb9f4848",
   "metadata": {},
   "outputs": [
    {
     "name": "stdout",
     "output_type": "stream",
     "text": [
      "40\n"
     ]
    }
   ],
   "source": [
    "m, n = 2, 3\n",
    "B = [\n",
    "    [71, 34, 47],\n",
    "    [6, 93, 98],\n",
    "]\n",
    "\n",
    "if n > m:  # если количество строк больше количества столбцов, меняем эти значения местами \n",
    "    n, m = m, n\n",
    "\n",
    "summ = 0\n",
    "for i in range(n):\n",
    "    summ += B[i][n - i - 1]\n",
    "\n",
    "print(summ)"
   ]
  },
  {
   "cell_type": "code",
   "execution_count": 28,
   "id": "e170309d-cdd7-45df-a823-5cac6b3525c3",
   "metadata": {},
   "outputs": [
    {
     "name": "stdout",
     "output_type": "stream",
     "text": [
      "40\n"
     ]
    }
   ],
   "source": [
    "m, n = 4, 2\n",
    "B = [\n",
    "    [71, 34],\n",
    "    [6, 93],\n",
    "    [34, 95],\n",
    "    [51, 27]\n",
    "]\n",
    "\n",
    "if n > m:  # если количество строк больше количества столбцов, меняем эти значения местами \n",
    "    n, m = m, n\n",
    "\n",
    "summ = 0\n",
    "for i in range(n):\n",
    "    summ += B[i][n - i - 1]\n",
    "\n",
    "print(summ)"
   ]
  },
  {
   "cell_type": "markdown",
   "id": "7e595eea-ff1a-4c25-9883-74a5238c294a",
   "metadata": {},
   "source": [
    "<p style=\"font-size: 18px;\"><b>Задача 3.</b> Дана матрица. Найти сумму элементов, расположенных в каждом столбце.</p>"
   ]
  },
  {
   "cell_type": "code",
   "execution_count": 32,
   "id": "de14693d-0d6d-4bc7-8843-331c88e502c2",
   "metadata": {},
   "outputs": [
    {
     "name": "stdout",
     "output_type": "stream",
     "text": [
      "[23, 46, 67, 93, 14, 52]\n",
      "[33, 77, 80, 48, 18, 20]\n",
      "[43, 75, 93, 80, 96, 28]\n",
      "[23, 56, 79, 74, 14, 71]\n"
     ]
    }
   ],
   "source": [
    "import random as r\n",
    "\n",
    "m1, n1 = r.randint(1, 10), r.randint(1, 10)\n",
    "matrix1 = []\n",
    "for i in range(m1):\n",
    "    line = []\n",
    "    for j in range(n1):\n",
    "        line.append(r.randint(1, 100))\n",
    "    matrix1.append(line)\n",
    "\n",
    "print(*matrix1, sep=\"\\n\")"
   ]
  },
  {
   "cell_type": "markdown",
   "id": "840c1cca-9ef6-436a-9016-f91484384a44",
   "metadata": {},
   "source": [
    "<p style=\"font-size: 18px;\">В случае, если необходим посчет суммы в столбце или строке матрицы, вам нужен для этого отдельный массив.</p>"
   ]
  },
  {
   "cell_type": "code",
   "execution_count": 36,
   "id": "2953fa91-56bb-4146-b796-994dfa6ce8f2",
   "metadata": {},
   "outputs": [
    {
     "name": "stdout",
     "output_type": "stream",
     "text": [
      "Столбец 0: \n",
      "23 33 43 23 \n",
      "Сумма элементов столбца 0: 122\n",
      "Столбец 1: \n",
      "46 77 75 56 \n",
      "Сумма элементов столбца 1: 254\n",
      "Столбец 2: \n",
      "67 80 93 79 \n",
      "Сумма элементов столбца 2: 319\n",
      "Столбец 3: \n",
      "93 48 80 74 \n",
      "Сумма элементов столбца 3: 295\n",
      "Столбец 4: \n",
      "14 18 96 14 \n",
      "Сумма элементов столбца 4: 142\n",
      "Столбец 5: \n",
      "52 20 28 71 \n",
      "Сумма элементов столбца 5: 171\n"
     ]
    }
   ],
   "source": [
    "sums = []\n",
    "\n",
    "for i in range(n1):\n",
    "    s = 0\n",
    "    print(f'Столбец {i}: ')\n",
    "    for j in range(m1):\n",
    "        s += matrix1[j][i]\n",
    "        print(matrix1[j][i], end=\" \")\n",
    "    sums.append(s)\n",
    "    print()\n",
    "    print(f'Сумма элементов столбца {i}: {s}')"
   ]
  },
  {
   "cell_type": "markdown",
   "id": "721de98e-77b3-4071-a401-58095c390f5f",
   "metadata": {},
   "source": [
    "<p style=\"font-size: 18px;\"><b>Задача 5*.</b> Дана квадратная матрица. Найти максимальный элемент матрицы, относительно элемента расположенного в ее центре.</p>"
   ]
  },
  {
   "cell_type": "code",
   "execution_count": 43,
   "id": "936b999d-6476-4d26-9222-ae69ed8b86b2",
   "metadata": {},
   "outputs": [
    {
     "name": "stdout",
     "output_type": "stream",
     "text": [
      "[40, 74, 16, 77, 97, 17, 50]\n",
      "[63, 74, 17, 95, 100, 96, 64]\n",
      "[100, 28, 33, 23, 85, 64, 75]\n",
      "[74, 18, 15, 41, 86, 42, 20]\n",
      "[29, 3, 52, 11, 16, 34, 1]\n",
      "[6, 50, 82, 61, 23, 16, 41]\n",
      "[20, 25, 44, 95, 64, 64, 50]\n"
     ]
    }
   ],
   "source": [
    "import random as r\n",
    "\n",
    "m1, n1 = 7, 7\n",
    "matrix1 = []\n",
    "for i in range(m1):\n",
    "    line = []\n",
    "    for j in range(n1):\n",
    "        line.append(r.randint(1, 100))\n",
    "    matrix1.append(line)\n",
    "\n",
    "print(*matrix1, sep=\"\\n\")"
   ]
  },
  {
   "cell_type": "code",
   "execution_count": 44,
   "id": "3df96cd0-d8a5-4424-918d-c965f0995565",
   "metadata": {},
   "outputs": [
    {
     "name": "stdout",
     "output_type": "stream",
     "text": [
      "41\n",
      "100\n"
     ]
    }
   ],
   "source": [
    "max_value = matrix1[m1 // 2][m1 // 2]\n",
    "print(max_value)\n",
    "\n",
    "for i in range(m1):\n",
    "    for j in range(m1):\n",
    "        if matrix1[i][j] > max_value:\n",
    "            max_value = matrix1[i][j]\n",
    "print(max_value)"
   ]
  },
  {
   "cell_type": "markdown",
   "id": "13670b5a-4431-4ac9-8c62-921fa51f2180",
   "metadata": {},
   "source": [
    "<p style=\"font-size: 18px;\"><b>Задача 6*.</b> Дана матрица. Найти сумму элементов матрицы, расположенных на расстоянии не более <code>n</code> от главной диагонали.</p>"
   ]
  },
  {
   "cell_type": "code",
   "execution_count": 46,
   "id": "c1ca4747-9e59-4e61-8a43-ac7cab7b926f",
   "metadata": {},
   "outputs": [
    {
     "name": "stdout",
     "output_type": "stream",
     "text": [
      "[19, 77, 69]\n",
      "[1, 59, 31]\n",
      "[10, 96, 57]\n"
     ]
    }
   ],
   "source": [
    "import random as r\n",
    "\n",
    "m1, n1 = 3, 3\n",
    "matrix1 = []\n",
    "for i in range(m1):\n",
    "    line = []\n",
    "    for j in range(n1):\n",
    "        line.append(r.randint(1, 100))\n",
    "    matrix1.append(line)\n",
    "\n",
    "print(*matrix1, sep=\"\\n\")"
   ]
  },
  {
   "cell_type": "code",
   "execution_count": 50,
   "id": "e75d165c-6be4-4294-8e27-8e34acc70ca0",
   "metadata": {},
   "outputs": [
    {
     "name": "stdout",
     "output_type": "stream",
     "text": [
      "\n",
      "77\n",
      "\n",
      "\n",
      "1\n",
      "\n",
      "\n",
      "31\n",
      "\n",
      "\n",
      "96\n",
      "\n",
      "\n",
      "205\n"
     ]
    }
   ],
   "source": [
    "n = 1\n",
    "summ = 0\n",
    "for i in range(m1):\n",
    "    for j in range(m1):\n",
    "        if abs(i - j) <= n and i != j:  # главную диагональ игнорировать не нужно \n",
    "            summ += matrix1[i][j]\n",
    "            print(matrix1[i][j])\n",
    "        print()\n",
    "\n",
    "print(summ)"
   ]
  },
  {
   "cell_type": "code",
   "execution_count": 52,
   "id": "c058c320-e24b-421c-93be-4bcca4af02fa",
   "metadata": {},
   "outputs": [
    {
     "name": "stdout",
     "output_type": "stream",
     "text": [
      "[31, 95, 4, 49, 8, 53, 86, 64, 33, 60]\n",
      "[67, 74, 39, 36, 99, 96, 58, 79, 89, 31]\n",
      "[53, 61, 27, 22, 28, 27, 93, 98, 3, 23]\n",
      "[67, 61, 55, 14, 37, 15, 9, 35, 46, 95]\n",
      "[63, 79, 23, 4, 60, 98, 36, 26, 86, 77]\n",
      "[90, 22, 43, 84, 56, 64, 41, 90, 21, 40]\n",
      "[54, 52, 73, 32, 40, 80, 9, 79, 22, 77]\n",
      "[65, 82, 54, 22, 7, 65, 20, 76, 56, 52]\n",
      "[93, 96, 78, 76, 1, 23, 88, 68, 81, 90]\n",
      "[29, 49, 95, 28, 51, 14, 86, 32, 65, 23]\n",
      "31\n",
      "\n",
      "95\n",
      "\n",
      "4\n",
      "\n",
      "49\n",
      "\n",
      "8\n",
      "\n",
      "53\n",
      "\n",
      "\n",
      "\n",
      "\n",
      "\n",
      "67\n",
      "\n",
      "74\n",
      "\n",
      "39\n",
      "\n",
      "36\n",
      "\n",
      "99\n",
      "\n",
      "96\n",
      "\n",
      "58\n",
      "\n",
      "\n",
      "\n",
      "\n",
      "53\n",
      "\n",
      "61\n",
      "\n",
      "27\n",
      "\n",
      "22\n",
      "\n",
      "28\n",
      "\n",
      "27\n",
      "\n",
      "93\n",
      "\n",
      "98\n",
      "\n",
      "\n",
      "\n",
      "67\n",
      "\n",
      "61\n",
      "\n",
      "55\n",
      "\n",
      "14\n",
      "\n",
      "37\n",
      "\n",
      "15\n",
      "\n",
      "9\n",
      "\n",
      "35\n",
      "\n",
      "46\n",
      "\n",
      "\n",
      "63\n",
      "\n",
      "79\n",
      "\n",
      "23\n",
      "\n",
      "4\n",
      "\n",
      "60\n",
      "\n",
      "98\n",
      "\n",
      "36\n",
      "\n",
      "26\n",
      "\n",
      "86\n",
      "\n",
      "77\n",
      "\n",
      "90\n",
      "\n",
      "22\n",
      "\n",
      "43\n",
      "\n",
      "84\n",
      "\n",
      "56\n",
      "\n",
      "64\n",
      "\n",
      "41\n",
      "\n",
      "90\n",
      "\n",
      "21\n",
      "\n",
      "40\n",
      "\n",
      "\n",
      "52\n",
      "\n",
      "73\n",
      "\n",
      "32\n",
      "\n",
      "40\n",
      "\n",
      "80\n",
      "\n",
      "9\n",
      "\n",
      "79\n",
      "\n",
      "22\n",
      "\n",
      "77\n",
      "\n",
      "\n",
      "\n",
      "54\n",
      "\n",
      "22\n",
      "\n",
      "7\n",
      "\n",
      "65\n",
      "\n",
      "20\n",
      "\n",
      "76\n",
      "\n",
      "56\n",
      "\n",
      "52\n",
      "\n",
      "\n",
      "\n",
      "\n",
      "76\n",
      "\n",
      "1\n",
      "\n",
      "23\n",
      "\n",
      "88\n",
      "\n",
      "68\n",
      "\n",
      "81\n",
      "\n",
      "90\n",
      "\n",
      "\n",
      "\n",
      "\n",
      "\n",
      "51\n",
      "\n",
      "14\n",
      "\n",
      "86\n",
      "\n",
      "32\n",
      "\n",
      "65\n",
      "\n",
      "23\n",
      "\n",
      "4074\n"
     ]
    }
   ],
   "source": [
    "import random as r\n",
    "\n",
    "m1, n1 = 10, 10\n",
    "matrix1 = []\n",
    "for i in range(m1):\n",
    "    line = []\n",
    "    for j in range(n1):\n",
    "        line.append(r.randint(1, 100))\n",
    "    matrix1.append(line)\n",
    "\n",
    "print(*matrix1, sep=\"\\n\")\n",
    "\n",
    "\n",
    "n = 5\n",
    "summ = 0\n",
    "for i in range(m1):\n",
    "    for j in range(m1):\n",
    "        if abs(i - j) <= n:\n",
    "            summ += matrix1[i][j]\n",
    "            print(matrix1[i][j])\n",
    "        print()\n",
    "\n",
    "print(summ)"
   ]
  },
  {
   "cell_type": "code",
   "execution_count": null,
   "id": "3f63ba1e-38d6-4068-9f0a-1dd80c038e6f",
   "metadata": {},
   "outputs": [],
   "source": []
  }
 ],
 "metadata": {
  "kernelspec": {
   "display_name": "Python 3 (ipykernel)",
   "language": "python",
   "name": "python3"
  },
  "language_info": {
   "codemirror_mode": {
    "name": "ipython",
    "version": 3
   },
   "file_extension": ".py",
   "mimetype": "text/x-python",
   "name": "python",
   "nbconvert_exporter": "python",
   "pygments_lexer": "ipython3",
   "version": "3.11.2"
  }
 },
 "nbformat": 4,
 "nbformat_minor": 5
}
