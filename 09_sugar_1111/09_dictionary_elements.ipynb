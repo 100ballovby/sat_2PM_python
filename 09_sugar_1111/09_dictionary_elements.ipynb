{
 "cells": [
  {
   "cell_type": "markdown",
   "id": "da289adc763705b9",
   "metadata": {
    "collapsed": false,
    "jupyter": {
     "outputs_hidden": false
    }
   },
   "source": [
    "# Обращение к вложенным коллекциям словаря "
   ]
  },
  {
   "cell_type": "code",
   "execution_count": 2,
   "id": "1acde18b82286407",
   "metadata": {
    "ExecuteTime": {
     "end_time": "2023-11-11T12:31:08.517600Z",
     "start_time": "2023-11-11T12:31:08.514022Z"
    },
    "collapsed": false,
    "jupyter": {
     "outputs_hidden": false
    }
   },
   "outputs": [],
   "source": [
    "phonebook = [\n",
    "    {\n",
    "        'first_name': 'John',\n",
    "        'last_name': 'Doe',\n",
    "        'phone': {\n",
    "            'mobile': ['+149995550100', '+14976550100'],\n",
    "            'home': '+149995550011',\n",
    "        },\n",
    "        'email': ['jdoe@gmail.com', 'johnny_doe@yahoo.com']\n",
    "    }\n",
    "]"
   ]
  },
  {
   "cell_type": "markdown",
   "id": "7bfa79a858aca1e5",
   "metadata": {
    "collapsed": false,
    "jupyter": {
     "outputs_hidden": false
    }
   },
   "source": [
    "## хочу достать только вложенный словарь из списка\n",
    "<p style=\"font-size: 18px;\">Так как <code>phonebook</code> - это список, я просто обращусь по индексу:</p>"
   ]
  },
  {
   "cell_type": "code",
   "execution_count": 3,
   "id": "26e0950136e5d128",
   "metadata": {
    "ExecuteTime": {
     "end_time": "2023-11-11T12:31:08.527633Z",
     "start_time": "2023-11-11T12:31:08.518636Z"
    },
    "collapsed": false,
    "jupyter": {
     "outputs_hidden": false
    }
   },
   "outputs": [
    {
     "data": {
      "text/plain": [
       "{'first_name': 'John',\n",
       " 'last_name': 'Doe',\n",
       " 'phone': {'mobile': ['+149995550100', '+14976550100'],\n",
       "  'home': '+149995550011'},\n",
       " 'email': ['jdoe@gmail.com', 'johnny_doe@yahoo.com']}"
      ]
     },
     "execution_count": 3,
     "metadata": {},
     "output_type": "execute_result"
    }
   ],
   "source": [
    "phonebook[0]"
   ]
  },
  {
   "cell_type": "markdown",
   "id": "cb60e98b35bf5cf4",
   "metadata": {
    "collapsed": false,
    "jupyter": {
     "outputs_hidden": false
    }
   },
   "source": [
    "## 1 уровень вложенности \n",
    "<p style=\"font-size: 18px;\">Хочу найти фамилию человека. Для этого в первом элементе списка нужно достать значение ключа <code>last_name</code>.</p>"
   ]
  },
  {
   "cell_type": "code",
   "execution_count": 4,
   "id": "f57a776098203568",
   "metadata": {
    "ExecuteTime": {
     "end_time": "2023-11-11T12:31:08.528205Z",
     "start_time": "2023-11-11T12:31:08.522390Z"
    },
    "collapsed": false,
    "jupyter": {
     "outputs_hidden": false
    }
   },
   "outputs": [
    {
     "data": {
      "text/plain": [
       "'Doe'"
      ]
     },
     "execution_count": 4,
     "metadata": {},
     "output_type": "execute_result"
    }
   ],
   "source": [
    "phonebook[0]['last_name']"
   ]
  },
  {
   "cell_type": "markdown",
   "id": "093a3f2e-7d84-45cf-bb41-0b5a59d403b3",
   "metadata": {},
   "source": [
    "# 2 уровень вложенности\n",
    "\n",
    "<p style=\"font-size: 18px;\">Хочу найти все мобильные номера человека. Для этого в первом элементе списка нужно обратиться к ключу <code>phone</code>, а затем, так как это словарь, обратиться к ключу <code>mobile</code>.</p>"
   ]
  },
  {
   "cell_type": "code",
   "execution_count": 5,
   "id": "8b497d47-6bc4-46bf-91b5-50f75e106862",
   "metadata": {},
   "outputs": [
    {
     "data": {
      "text/plain": [
       "['+149995550100', '+14976550100']"
      ]
     },
     "execution_count": 5,
     "metadata": {},
     "output_type": "execute_result"
    }
   ],
   "source": [
    "phonebook[0]['phone']['mobile']"
   ]
  },
  {
   "cell_type": "markdown",
   "id": "40d1d79e-1d68-4312-a37f-c6375de6de62",
   "metadata": {},
   "source": [
    "# 3 уровень вложенности\n",
    "\n",
    "<p style=\"font-size: 18px;\">Хочу найти первый мобильный номер человека. Для этого в первом элементе списка нужно обратиться к ключу <code>phone</code>, а затем, так как это словарь, обратиться к ключу <code>mobile</code>, а так как внутри ключа находится список, обратиться к первому его элементу.</p>"
   ]
  },
  {
   "cell_type": "code",
   "execution_count": 6,
   "id": "2b165a17-7262-4bbe-ae74-80fb9dfa9652",
   "metadata": {},
   "outputs": [
    {
     "data": {
      "text/plain": [
       "'+149995550100'"
      ]
     },
     "execution_count": 6,
     "metadata": {},
     "output_type": "execute_result"
    }
   ],
   "source": [
    "phonebook[0]['phone']['mobile'][0]"
   ]
  },
  {
   "cell_type": "markdown",
   "id": "75e8960e-59cb-4c4d-8b65-ecbc8add688c",
   "metadata": {},
   "source": [
    "<p style=\"font-size: 18px;\">Если я хочу найти второй email человека, то для этого в первом элементе списка нужно обратиться к ключу <code>email</code>, а затем, так как это список, обратиться ко второму его элементу.</p>"
   ]
  },
  {
   "cell_type": "code",
   "execution_count": 7,
   "id": "82040751-a708-4696-a94e-510f3a69a53f",
   "metadata": {},
   "outputs": [
    {
     "data": {
      "text/plain": [
       "'johnny_doe@yahoo.com'"
      ]
     },
     "execution_count": 7,
     "metadata": {},
     "output_type": "execute_result"
    }
   ],
   "source": [
    "phonebook[0]['email'][1]"
   ]
  },
  {
   "cell_type": "code",
   "execution_count": null,
   "id": "ca3a8c13-af1e-432b-9e00-872551adf618",
   "metadata": {},
   "outputs": [],
   "source": []
  }
 ],
 "metadata": {
  "kernelspec": {
   "display_name": "Python 3 (ipykernel)",
   "language": "python",
   "name": "python3"
  },
  "language_info": {
   "codemirror_mode": {
    "name": "ipython",
    "version": 3
   },
   "file_extension": ".py",
   "mimetype": "text/x-python",
   "name": "python",
   "nbconvert_exporter": "python",
   "pygments_lexer": "ipython3",
   "version": "3.11.2"
  }
 },
 "nbformat": 4,
 "nbformat_minor": 5
}
